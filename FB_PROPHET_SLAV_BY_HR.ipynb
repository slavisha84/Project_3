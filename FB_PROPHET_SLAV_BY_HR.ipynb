{
 "cells": [
  {
   "cell_type": "code",
   "execution_count": 1,
   "metadata": {},
   "outputs": [],
   "source": [
    "# import dependencies\n",
    "import pandas as pd\n",
    "import sqlite3\n",
    "from datetime import datetime, timedelta\n",
    "from fbprophet import Prophet\n",
    "\n",
    "from fbprophet.plot import plot_plotly\n",
    "import plotly.offline as py\n",
    "\n",
    "import plotly.offline as py\n",
    "import plotly.graph_objs as go"
   ]
  },
  {
   "cell_type": "code",
   "execution_count": 12,
   "metadata": {},
   "outputs": [],
   "source": [
    "# Create your connections with indoor and outdoor databases\n",
    "Ocnx = sqlite3.connect('Outdoor.db')\n",
    "Icnx = sqlite3.connect('Indoor.db')\n",
    "Outdoor_df = pd.read_sql_query(\"SELECT * FROM BME_DATA\", Ocnx)\n",
    "Indoor_df = pd.read_sql_query(\"SELECT * FROM BME_DATA\", Icnx)"
   ]
  },
  {
   "cell_type": "code",
   "execution_count": 13,
   "metadata": {},
   "outputs": [],
   "source": [
    "# Convert time into datetime\n",
    "Outdoor_df['TIME_STAMP'] = pd.to_datetime(Outdoor_df['TIME_STAMP'])\n",
    "Indoor_df['TIME_STAMP'] = pd.to_datetime(Indoor_df['TIME_STAMP'])"
   ]
  },
  {
   "cell_type": "code",
   "execution_count": 14,
   "metadata": {},
   "outputs": [
    {
     "data": {
      "text/html": [
       "<div>\n",
       "<style scoped>\n",
       "    .dataframe tbody tr th:only-of-type {\n",
       "        vertical-align: middle;\n",
       "    }\n",
       "\n",
       "    .dataframe tbody tr th {\n",
       "        vertical-align: top;\n",
       "    }\n",
       "\n",
       "    .dataframe thead th {\n",
       "        text-align: right;\n",
       "    }\n",
       "</style>\n",
       "<table border=\"1\" class=\"dataframe\">\n",
       "  <thead>\n",
       "    <tr style=\"text-align: right;\">\n",
       "      <th></th>\n",
       "      <th>id</th>\n",
       "      <th>TIME_STAMP</th>\n",
       "      <th>TEMPERATURE</th>\n",
       "      <th>GAS</th>\n",
       "      <th>HUMIDITY</th>\n",
       "      <th>PRESSURE</th>\n",
       "      <th>ALTITUDE</th>\n",
       "    </tr>\n",
       "  </thead>\n",
       "  <tbody>\n",
       "    <tr>\n",
       "      <th>0</th>\n",
       "      <td>16882</td>\n",
       "      <td>2019-05-24 13:00:00</td>\n",
       "      <td>31.5</td>\n",
       "      <td>723933</td>\n",
       "      <td>54.8</td>\n",
       "      <td>989.5</td>\n",
       "      <td>199.3</td>\n",
       "    </tr>\n",
       "  </tbody>\n",
       "</table>\n",
       "</div>"
      ],
      "text/plain": [
       "      id          TIME_STAMP  TEMPERATURE     GAS  HUMIDITY  PRESSURE  \\\n",
       "0  16882 2019-05-24 13:00:00         31.5  723933      54.8     989.5   \n",
       "\n",
       "   ALTITUDE  \n",
       "0     199.3  "
      ]
     },
     "execution_count": 14,
     "metadata": {},
     "output_type": "execute_result"
    }
   ],
   "source": [
    "Outdoor_df['TIME_STAMP'] = Outdoor_df['TIME_STAMP'].dt.round('60min')\n",
    "Indoor_df['TIME_STAMP'] = Indoor_df['TIME_STAMP'].dt.round('60min')\n",
    "Outdoor_df.head()"
   ]
  },
  {
   "cell_type": "code",
   "execution_count": 5,
   "metadata": {},
   "outputs": [
    {
     "data": {
      "text/html": [
       "<div>\n",
       "<style scoped>\n",
       "    .dataframe tbody tr th:only-of-type {\n",
       "        vertical-align: middle;\n",
       "    }\n",
       "\n",
       "    .dataframe tbody tr th {\n",
       "        vertical-align: top;\n",
       "    }\n",
       "\n",
       "    .dataframe thead th {\n",
       "        text-align: right;\n",
       "    }\n",
       "</style>\n",
       "<table border=\"1\" class=\"dataframe\">\n",
       "  <thead>\n",
       "    <tr style=\"text-align: right;\">\n",
       "      <th></th>\n",
       "      <th>id</th>\n",
       "      <th>TIME_STAMP</th>\n",
       "      <th>TEMPERATURE</th>\n",
       "      <th>GAS</th>\n",
       "      <th>HUMIDITY</th>\n",
       "      <th>PRESSURE</th>\n",
       "      <th>ALTITUDE</th>\n",
       "    </tr>\n",
       "  </thead>\n",
       "  <tbody>\n",
       "    <tr>\n",
       "      <th>0</th>\n",
       "      <td>1</td>\n",
       "      <td>2019-05-12 19:00:00</td>\n",
       "      <td>75.0</td>\n",
       "      <td>100</td>\n",
       "      <td>50.0</td>\n",
       "      <td>1000.0</td>\n",
       "      <td>1000.0</td>\n",
       "    </tr>\n",
       "    <tr>\n",
       "      <th>1</th>\n",
       "      <td>2</td>\n",
       "      <td>2019-05-12 19:00:00</td>\n",
       "      <td>23.5</td>\n",
       "      <td>6049661</td>\n",
       "      <td>35.9</td>\n",
       "      <td>972.9</td>\n",
       "      <td>341.2</td>\n",
       "    </tr>\n",
       "    <tr>\n",
       "      <th>2</th>\n",
       "      <td>3</td>\n",
       "      <td>2019-05-12 19:00:00</td>\n",
       "      <td>23.5</td>\n",
       "      <td>5851528</td>\n",
       "      <td>35.9</td>\n",
       "      <td>972.9</td>\n",
       "      <td>341.3</td>\n",
       "    </tr>\n",
       "    <tr>\n",
       "      <th>3</th>\n",
       "      <td>4</td>\n",
       "      <td>2019-05-12 19:00:00</td>\n",
       "      <td>23.4</td>\n",
       "      <td>5636172</td>\n",
       "      <td>36.2</td>\n",
       "      <td>972.9</td>\n",
       "      <td>341.4</td>\n",
       "    </tr>\n",
       "    <tr>\n",
       "      <th>4</th>\n",
       "      <td>5</td>\n",
       "      <td>2019-05-12 19:00:00</td>\n",
       "      <td>23.5</td>\n",
       "      <td>5441624</td>\n",
       "      <td>37.3</td>\n",
       "      <td>972.9</td>\n",
       "      <td>341.5</td>\n",
       "    </tr>\n",
       "  </tbody>\n",
       "</table>\n",
       "</div>"
      ],
      "text/plain": [
       "   id          TIME_STAMP  TEMPERATURE      GAS  HUMIDITY  PRESSURE  ALTITUDE\n",
       "0   1 2019-05-12 19:00:00         75.0      100      50.0    1000.0    1000.0\n",
       "1   2 2019-05-12 19:00:00         23.5  6049661      35.9     972.9     341.2\n",
       "2   3 2019-05-12 19:00:00         23.5  5851528      35.9     972.9     341.3\n",
       "3   4 2019-05-12 19:00:00         23.4  5636172      36.2     972.9     341.4\n",
       "4   5 2019-05-12 19:00:00         23.5  5441624      37.3     972.9     341.5"
      ]
     },
     "execution_count": 5,
     "metadata": {},
     "output_type": "execute_result"
    }
   ],
   "source": [
    "Indoor_df.head()"
   ]
  },
  {
   "cell_type": "code",
   "execution_count": 6,
   "metadata": {},
   "outputs": [],
   "source": [
    "# Deleting the wrong input at the first rows\n",
    "Outdoor_df = Outdoor_df.iloc[1:]\n",
    "Indoor_df = Indoor_df.iloc[1:]"
   ]
  },
  {
   "cell_type": "code",
   "execution_count": 7,
   "metadata": {},
   "outputs": [],
   "source": [
    "# converting temperature from C to f\n",
    "Outdoor_df['TEMPERATURE'] = round((Outdoor_df['TEMPERATURE']* 9/5) + 32)\n",
    "Indoor_df['TEMPERATURE'] = round((Indoor_df['TEMPERATURE']* 9/5) + 32)"
   ]
  },
  {
   "cell_type": "code",
   "execution_count": 8,
   "metadata": {},
   "outputs": [],
   "source": [
    "# Merging Indor and Outdoor (on time stamp)\n",
    "master_df = pd.merge(Outdoor_df, Indoor_df, on = \"TIME_STAMP\", how = \"left\", suffixes=(\"_Out\",\"_In\"))"
   ]
  },
  {
   "cell_type": "code",
   "execution_count": 9,
   "metadata": {},
   "outputs": [
    {
     "data": {
      "text/html": [
       "<div>\n",
       "<style scoped>\n",
       "    .dataframe tbody tr th:only-of-type {\n",
       "        vertical-align: middle;\n",
       "    }\n",
       "\n",
       "    .dataframe tbody tr th {\n",
       "        vertical-align: top;\n",
       "    }\n",
       "\n",
       "    .dataframe thead th {\n",
       "        text-align: right;\n",
       "    }\n",
       "</style>\n",
       "<table border=\"1\" class=\"dataframe\">\n",
       "  <thead>\n",
       "    <tr style=\"text-align: right;\">\n",
       "      <th></th>\n",
       "      <th>id_Out</th>\n",
       "      <th>TIME_STAMP</th>\n",
       "      <th>TEMPERATURE_Out</th>\n",
       "      <th>GAS_Out</th>\n",
       "      <th>HUMIDITY_Out</th>\n",
       "      <th>PRESSURE_Out</th>\n",
       "      <th>ALTITUDE_Out</th>\n",
       "      <th>id_In</th>\n",
       "      <th>TEMPERATURE_In</th>\n",
       "      <th>GAS_In</th>\n",
       "      <th>HUMIDITY_In</th>\n",
       "      <th>PRESSURE_In</th>\n",
       "      <th>ALTITUDE_In</th>\n",
       "    </tr>\n",
       "  </thead>\n",
       "  <tbody>\n",
       "    <tr>\n",
       "      <th>0</th>\n",
       "      <td>2</td>\n",
       "      <td>2019-05-12 19:00:00</td>\n",
       "      <td>75.0</td>\n",
       "      <td>364884</td>\n",
       "      <td>84.9</td>\n",
       "      <td>975.0</td>\n",
       "      <td>323.2</td>\n",
       "      <td>2</td>\n",
       "      <td>74.0</td>\n",
       "      <td>6049661</td>\n",
       "      <td>35.9</td>\n",
       "      <td>972.9</td>\n",
       "      <td>341.2</td>\n",
       "    </tr>\n",
       "    <tr>\n",
       "      <th>1</th>\n",
       "      <td>2</td>\n",
       "      <td>2019-05-12 19:00:00</td>\n",
       "      <td>75.0</td>\n",
       "      <td>364884</td>\n",
       "      <td>84.9</td>\n",
       "      <td>975.0</td>\n",
       "      <td>323.2</td>\n",
       "      <td>3</td>\n",
       "      <td>74.0</td>\n",
       "      <td>5851528</td>\n",
       "      <td>35.9</td>\n",
       "      <td>972.9</td>\n",
       "      <td>341.3</td>\n",
       "    </tr>\n",
       "    <tr>\n",
       "      <th>2</th>\n",
       "      <td>2</td>\n",
       "      <td>2019-05-12 19:00:00</td>\n",
       "      <td>75.0</td>\n",
       "      <td>364884</td>\n",
       "      <td>84.9</td>\n",
       "      <td>975.0</td>\n",
       "      <td>323.2</td>\n",
       "      <td>4</td>\n",
       "      <td>74.0</td>\n",
       "      <td>5636172</td>\n",
       "      <td>36.2</td>\n",
       "      <td>972.9</td>\n",
       "      <td>341.4</td>\n",
       "    </tr>\n",
       "    <tr>\n",
       "      <th>3</th>\n",
       "      <td>2</td>\n",
       "      <td>2019-05-12 19:00:00</td>\n",
       "      <td>75.0</td>\n",
       "      <td>364884</td>\n",
       "      <td>84.9</td>\n",
       "      <td>975.0</td>\n",
       "      <td>323.2</td>\n",
       "      <td>5</td>\n",
       "      <td>74.0</td>\n",
       "      <td>5441624</td>\n",
       "      <td>37.3</td>\n",
       "      <td>972.9</td>\n",
       "      <td>341.5</td>\n",
       "    </tr>\n",
       "    <tr>\n",
       "      <th>4</th>\n",
       "      <td>2</td>\n",
       "      <td>2019-05-12 19:00:00</td>\n",
       "      <td>75.0</td>\n",
       "      <td>364884</td>\n",
       "      <td>84.9</td>\n",
       "      <td>975.0</td>\n",
       "      <td>323.2</td>\n",
       "      <td>6</td>\n",
       "      <td>74.0</td>\n",
       "      <td>5219085</td>\n",
       "      <td>37.1</td>\n",
       "      <td>972.9</td>\n",
       "      <td>341.6</td>\n",
       "    </tr>\n",
       "  </tbody>\n",
       "</table>\n",
       "</div>"
      ],
      "text/plain": [
       "   id_Out          TIME_STAMP  TEMPERATURE_Out  GAS_Out  HUMIDITY_Out  \\\n",
       "0       2 2019-05-12 19:00:00             75.0   364884          84.9   \n",
       "1       2 2019-05-12 19:00:00             75.0   364884          84.9   \n",
       "2       2 2019-05-12 19:00:00             75.0   364884          84.9   \n",
       "3       2 2019-05-12 19:00:00             75.0   364884          84.9   \n",
       "4       2 2019-05-12 19:00:00             75.0   364884          84.9   \n",
       "\n",
       "   PRESSURE_Out  ALTITUDE_Out  id_In  TEMPERATURE_In   GAS_In  HUMIDITY_In  \\\n",
       "0         975.0         323.2      2            74.0  6049661         35.9   \n",
       "1         975.0         323.2      3            74.0  5851528         35.9   \n",
       "2         975.0         323.2      4            74.0  5636172         36.2   \n",
       "3         975.0         323.2      5            74.0  5441624         37.3   \n",
       "4         975.0         323.2      6            74.0  5219085         37.1   \n",
       "\n",
       "   PRESSURE_In  ALTITUDE_In  \n",
       "0        972.9        341.2  \n",
       "1        972.9        341.3  \n",
       "2        972.9        341.4  \n",
       "3        972.9        341.5  \n",
       "4        972.9        341.6  "
      ]
     },
     "execution_count": 9,
     "metadata": {},
     "output_type": "execute_result"
    }
   ],
   "source": [
    "# Dropping NAs\n",
    "master_df= master_df.dropna()\n",
    "master_df.head()"
   ]
  },
  {
   "cell_type": "code",
   "execution_count": 10,
   "metadata": {},
   "outputs": [],
   "source": [
    "# Creating Json for chart1\n",
    "prep_json = master_df.loc[:,[\"TIME_STAMP\", \"TEMPERATURE_Out\",\"TEMPERATURE_In\"]]\n",
    "prep_json2 = prep_json.groupby(['TIME_STAMP'], as_index=False)[\"TEMPERATURE_Out\",\"TEMPERATURE_In\"].mean()\n",
    "prep_json2[\"TEMPERATURE_Out\"] = round(prep_json2[\"TEMPERATURE_Out\"],1)\n",
    "json_df = prep_json2.to_json(orient='records')"
   ]
  },
  {
   "cell_type": "code",
   "execution_count": 11,
   "metadata": {},
   "outputs": [
    {
     "data": {
      "text/plain": [
       "'[{\"TIME_STAMP\":1557687600000,\"TEMPERATURE_Out\":74.6,\"TEMPERATURE_In\":74.5},{\"TIME_STAMP\":1557691200000,\"TEMPERATURE_Out\":73.0,\"TEMPERATURE_In\":74.5333333333},{\"TIME_STAMP\":1557694800000,\"TEMPERATURE_Out\":71.7,\"TEMPERATURE_In\":74.0},{\"TIME_STAMP\":1557698400000,\"TEMPERATURE_Out\":71.9,\"TEMPERATURE_In\":74.6333333333},{\"TIME_STAMP\":1557702000000,\"TEMPERATURE_Out\":71.4,\"TEMPERATURE_In\":74.7},{\"TIME_STAMP\":1557705600000,\"TEMPERATURE_Out\":70.4,\"TEMPERATURE_In\":75.9333333333},{\"TIME_STAMP\":1557709200000,\"TEMPERATURE_Out\":70.0,\"TEMPERATURE_In\":76.0},{\"TIME_STAMP\":1557712800000,\"TEMPERATURE_Out\":69.9,\"TEMPERATURE_In\":76.0},{\"TIME_STAMP\":1557716400000,\"TEMPERATURE_Out\":69.0,\"TEMPERATURE_In\":76.0},{\"TIME_STAMP\":1557720000000,\"TEMPERATURE_Out\":67.8,\"TEMPERATURE_In\":76.7333333333},{\"TIME_STAMP\":1557723600000,\"TEMPERATURE_Out\":66.4,\"TEMPERATURE_In\":76.6166666667},{\"TIME_STAMP\":1557727200000,\"TEMPERATURE_Out\":66.0,\"TEMPERATURE_In\":76.0},{\"TIME_STAMP\":1557730800000,\"TEMPERATURE_Out\":65.2,\"TEMPERATURE_In\":76.0},{\"TIME_STAMP\":1557734400000,\"TEMPERATURE_Out\":65.0,\"TEMPERATURE_In\":75.8833333333},{\"TIME_STAMP\":1557738000000,\"TEMPERATURE_Out\":66.3,\"TEMPERATURE_In\":74.4833333333},{\"TIME_STAMP\":1557741600000,\"TEMPERATURE_Out\":67.2,\"TEMPERATURE_In\":74.0166666667},{\"TIME_STAMP\":1557745200000,\"TEMPERATURE_Out\":68.2,\"TEMPERATURE_In\":73.8644067797},{\"TIME_STAMP\":1557748800000,\"TEMPERATURE_Out\":69.1,\"TEMPERATURE_In\":74.0},{\"TIME_STAMP\":1557752400000,\"TEMPERATURE_Out\":70.7,\"TEMPERATURE_In\":73.9333333333},{\"TIME_STAMP\":1557756000000,\"TEMPERATURE_Out\":72.3,\"TEMPERATURE_In\":73.9},{\"TIME_STAMP\":1557759600000,\"TEMPERATURE_Out\":73.2,\"TEMPERATURE_In\":74.0},{\"TIME_STAMP\":1557763200000,\"TEMPERATURE_Out\":74.1,\"TEMPERATURE_In\":74.2333333333},{\"TIME_STAMP\":1557766800000,\"TEMPERATURE_Out\":74.7,\"TEMPERATURE_In\":74.4166666667},{\"TIME_STAMP\":1557770400000,\"TEMPERATURE_Out\":74.7,\"TEMPERATURE_In\":74.7166666667},{\"TIME_STAMP\":1557774000000,\"TEMPERATURE_Out\":73.1,\"TEMPERATURE_In\":75.0666666667},{\"TIME_STAMP\":1557777600000,\"TEMPERATURE_Out\":70.5,\"TEMPERATURE_In\":76.0},{\"TIME_STAMP\":1557781200000,\"TEMPERATURE_Out\":68.2,\"TEMPERATURE_In\":76.0333333333},{\"TIME_STAMP\":1557784800000,\"TEMPERATURE_Out\":65.9,\"TEMPERATURE_In\":75.95},{\"TIME_STAMP\":1557788400000,\"TEMPERATURE_Out\":63.4,\"TEMPERATURE_In\":75.7},{\"TIME_STAMP\":1557792000000,\"TEMPERATURE_Out\":62.6,\"TEMPERATURE_In\":74.6666666667},{\"TIME_STAMP\":1557795600000,\"TEMPERATURE_Out\":60.4,\"TEMPERATURE_In\":75.0},{\"TIME_STAMP\":1557799200000,\"TEMPERATURE_Out\":59.2,\"TEMPERATURE_In\":74.1},{\"TIME_STAMP\":1557802800000,\"TEMPERATURE_Out\":57.4,\"TEMPERATURE_In\":74.0},{\"TIME_STAMP\":1557806400000,\"TEMPERATURE_Out\":55.4,\"TEMPERATURE_In\":74.0},{\"TIME_STAMP\":1557810000000,\"TEMPERATURE_Out\":54.4,\"TEMPERATURE_In\":74.0},{\"TIME_STAMP\":1557813600000,\"TEMPERATURE_Out\":54.0,\"TEMPERATURE_In\":74.0},{\"TIME_STAMP\":1557817200000,\"TEMPERATURE_Out\":54.0,\"TEMPERATURE_In\":73.4},{\"TIME_STAMP\":1557820800000,\"TEMPERATURE_Out\":55.4,\"TEMPERATURE_In\":73.1},{\"TIME_STAMP\":1557824400000,\"TEMPERATURE_Out\":59.1,\"TEMPERATURE_In\":73.0},{\"TIME_STAMP\":1557828000000,\"TEMPERATURE_Out\":61.4,\"TEMPERATURE_In\":73.0},{\"TIME_STAMP\":1557831600000,\"TEMPERATURE_Out\":63.0,\"TEMPERATURE_In\":73.0},{\"TIME_STAMP\":1557835200000,\"TEMPERATURE_Out\":65.0,\"TEMPERATURE_In\":73.0},{\"TIME_STAMP\":1557838800000,\"TEMPERATURE_Out\":67.3,\"TEMPERATURE_In\":73.0},{\"TIME_STAMP\":1557842400000,\"TEMPERATURE_Out\":69.9,\"TEMPERATURE_In\":73.0},{\"TIME_STAMP\":1557846000000,\"TEMPERATURE_Out\":71.7,\"TEMPERATURE_In\":73.95},{\"TIME_STAMP\":1557849600000,\"TEMPERATURE_Out\":73.2,\"TEMPERATURE_In\":74.2},{\"TIME_STAMP\":1557853200000,\"TEMPERATURE_Out\":74.2,\"TEMPERATURE_In\":75.0166666667},{\"TIME_STAMP\":1557856800000,\"TEMPERATURE_Out\":74.4,\"TEMPERATURE_In\":75.4166666667},{\"TIME_STAMP\":1557860400000,\"TEMPERATURE_Out\":73.5,\"TEMPERATURE_In\":75.6},{\"TIME_STAMP\":1557864000000,\"TEMPERATURE_Out\":71.6,\"TEMPERATURE_In\":75.7166666667},{\"TIME_STAMP\":1557867600000,\"TEMPERATURE_Out\":69.3,\"TEMPERATURE_In\":75.1333333333},{\"TIME_STAMP\":1557871200000,\"TEMPERATURE_Out\":66.4,\"TEMPERATURE_In\":75.3559322034},{\"TIME_STAMP\":1557874800000,\"TEMPERATURE_Out\":62.4,\"TEMPERATURE_In\":76.0},{\"TIME_STAMP\":1557878400000,\"TEMPERATURE_Out\":61.0,\"TEMPERATURE_In\":76.0},{\"TIME_STAMP\":1557882000000,\"TEMPERATURE_Out\":59.0,\"TEMPERATURE_In\":75.8833333333},{\"TIME_STAMP\":1557885600000,\"TEMPERATURE_Out\":57.6,\"TEMPERATURE_In\":75.0},{\"TIME_STAMP\":1557889200000,\"TEMPERATURE_Out\":55.9,\"TEMPERATURE_In\":74.95},{\"TIME_STAMP\":1557892800000,\"TEMPERATURE_Out\":54.8,\"TEMPERATURE_In\":74.3333333333},{\"TIME_STAMP\":1557896400000,\"TEMPERATURE_Out\":53.8,\"TEMPERATURE_In\":74.0},{\"TIME_STAMP\":1557900000000,\"TEMPERATURE_Out\":53.0,\"TEMPERATURE_In\":74.0},{\"TIME_STAMP\":1557903600000,\"TEMPERATURE_Out\":52.4,\"TEMPERATURE_In\":73.0169491525},{\"TIME_STAMP\":1557907200000,\"TEMPERATURE_Out\":55.4,\"TEMPERATURE_In\":72.4666666667},{\"TIME_STAMP\":1557910800000,\"TEMPERATURE_Out\":61.3,\"TEMPERATURE_In\":73.0},{\"TIME_STAMP\":1557914400000,\"TEMPERATURE_Out\":64.5,\"TEMPERATURE_In\":73.0},{\"TIME_STAMP\":1557918000000,\"TEMPERATURE_Out\":66.8,\"TEMPERATURE_In\":73.0},{\"TIME_STAMP\":1557921600000,\"TEMPERATURE_Out\":69.2,\"TEMPERATURE_In\":73.0},{\"TIME_STAMP\":1557925200000,\"TEMPERATURE_Out\":71.0,\"TEMPERATURE_In\":73.3333333333},{\"TIME_STAMP\":1557928800000,\"TEMPERATURE_Out\":72.2,\"TEMPERATURE_In\":74.0},{\"TIME_STAMP\":1557932400000,\"TEMPERATURE_Out\":73.6,\"TEMPERATURE_In\":74.0},{\"TIME_STAMP\":1557936000000,\"TEMPERATURE_Out\":74.8,\"TEMPERATURE_In\":74.25},{\"TIME_STAMP\":1557939600000,\"TEMPERATURE_Out\":74.2,\"TEMPERATURE_In\":75.0},{\"TIME_STAMP\":1557943200000,\"TEMPERATURE_Out\":74.5,\"TEMPERATURE_In\":75.3333333333},{\"TIME_STAMP\":1557946800000,\"TEMPERATURE_Out\":75.2,\"TEMPERATURE_In\":76.05},{\"TIME_STAMP\":1557950400000,\"TEMPERATURE_Out\":73.4,\"TEMPERATURE_In\":76.3},{\"TIME_STAMP\":1557954000000,\"TEMPERATURE_Out\":69.5,\"TEMPERATURE_In\":76.35},{\"TIME_STAMP\":1557957600000,\"TEMPERATURE_Out\":68.0,\"TEMPERATURE_In\":76.6779661017},{\"TIME_STAMP\":1557961200000,\"TEMPERATURE_Out\":66.9,\"TEMPERATURE_In\":76.6666666667},{\"TIME_STAMP\":1557964800000,\"TEMPERATURE_Out\":66.5,\"TEMPERATURE_In\":76.6833333333},{\"TIME_STAMP\":1557968400000,\"TEMPERATURE_Out\":64.8,\"TEMPERATURE_In\":76.6166666667},{\"TIME_STAMP\":1557972000000,\"TEMPERATURE_Out\":63.6,\"TEMPERATURE_In\":76.9166666667},{\"TIME_STAMP\":1557975600000,\"TEMPERATURE_Out\":62.8,\"TEMPERATURE_In\":76.3},{\"TIME_STAMP\":1557979200000,\"TEMPERATURE_Out\":63.0,\"TEMPERATURE_In\":77.0},{\"TIME_STAMP\":1557982800000,\"TEMPERATURE_Out\":63.0,\"TEMPERATURE_In\":76.6779661017},{\"TIME_STAMP\":1557986400000,\"TEMPERATURE_Out\":62.5,\"TEMPERATURE_In\":76.0},{\"TIME_STAMP\":1557990000000,\"TEMPERATURE_Out\":62.1,\"TEMPERATURE_In\":76.1666666667},{\"TIME_STAMP\":1557993600000,\"TEMPERATURE_Out\":63.4,\"TEMPERATURE_In\":75.8333333333},{\"TIME_STAMP\":1557997200000,\"TEMPERATURE_Out\":66.3,\"TEMPERATURE_In\":75.4666666667},{\"TIME_STAMP\":1558000800000,\"TEMPERATURE_Out\":70.4,\"TEMPERATURE_In\":75.7333333333},{\"TIME_STAMP\":1558004400000,\"TEMPERATURE_Out\":73.7,\"TEMPERATURE_In\":76.05},{\"TIME_STAMP\":1558008000000,\"TEMPERATURE_Out\":76.2,\"TEMPERATURE_In\":76.7627118644},{\"TIME_STAMP\":1558011600000,\"TEMPERATURE_Out\":79.6,\"TEMPERATURE_In\":75.95},{\"TIME_STAMP\":1558015200000,\"TEMPERATURE_Out\":82.4,\"TEMPERATURE_In\":75.7666666667},{\"TIME_STAMP\":1558018800000,\"TEMPERATURE_Out\":84.2,\"TEMPERATURE_In\":75.9},{\"TIME_STAMP\":1558022400000,\"TEMPERATURE_Out\":86.1,\"TEMPERATURE_In\":76.0},{\"TIME_STAMP\":1558026000000,\"TEMPERATURE_Out\":86.3,\"TEMPERATURE_In\":76.15},{\"TIME_STAMP\":1558029600000,\"TEMPERATURE_Out\":86.2,\"TEMPERATURE_In\":76.5333333333},{\"TIME_STAMP\":1558033200000,\"TEMPERATURE_Out\":85.9,\"TEMPERATURE_In\":76.75},{\"TIME_STAMP\":1558036800000,\"TEMPERATURE_Out\":82.8,\"TEMPERATURE_In\":76.1666666667},{\"TIME_STAMP\":1558040400000,\"TEMPERATURE_Out\":78.6,\"TEMPERATURE_In\":76.0},{\"TIME_STAMP\":1558044000000,\"TEMPERATURE_Out\":76.0,\"TEMPERATURE_In\":76.0333333333},{\"TIME_STAMP\":1558047600000,\"TEMPERATURE_Out\":73.3,\"TEMPERATURE_In\":76.0},{\"TIME_STAMP\":1558051200000,\"TEMPERATURE_Out\":73.0,\"TEMPERATURE_In\":75.7333333333},{\"TIME_STAMP\":1558054800000,\"TEMPERATURE_Out\":72.6,\"TEMPERATURE_In\":75.7666666667},{\"TIME_STAMP\":1558058400000,\"TEMPERATURE_Out\":72.5,\"TEMPERATURE_In\":75.8},{\"TIME_STAMP\":1558062000000,\"TEMPERATURE_Out\":70.8,\"TEMPERATURE_In\":76.0},{\"TIME_STAMP\":1558065600000,\"TEMPERATURE_Out\":69.8,\"TEMPERATURE_In\":76.0},{\"TIME_STAMP\":1558069200000,\"TEMPERATURE_Out\":69.2,\"TEMPERATURE_In\":76.0},{\"TIME_STAMP\":1558072800000,\"TEMPERATURE_Out\":69.0,\"TEMPERATURE_In\":75.9666666667},{\"TIME_STAMP\":1558076400000,\"TEMPERATURE_Out\":68.0,\"TEMPERATURE_In\":75.9166666667},{\"TIME_STAMP\":1558080000000,\"TEMPERATURE_Out\":69.5,\"TEMPERATURE_In\":75.9166666667},{\"TIME_STAMP\":1558083600000,\"TEMPERATURE_Out\":74.0,\"TEMPERATURE_In\":75.9166666667},{\"TIME_STAMP\":1558087200000,\"TEMPERATURE_Out\":76.3,\"TEMPERATURE_In\":75.7166666667},{\"TIME_STAMP\":1558090800000,\"TEMPERATURE_Out\":78.5,\"TEMPERATURE_In\":75.9333333333},{\"TIME_STAMP\":1558094400000,\"TEMPERATURE_Out\":81.2,\"TEMPERATURE_In\":75.75},{\"TIME_STAMP\":1558098000000,\"TEMPERATURE_Out\":83.6,\"TEMPERATURE_In\":75.7166666667},{\"TIME_STAMP\":1558101600000,\"TEMPERATURE_Out\":85.8,\"TEMPERATURE_In\":75.7966101695},{\"TIME_STAMP\":1558105200000,\"TEMPERATURE_Out\":87.0,\"TEMPERATURE_In\":75.7666666667},{\"TIME_STAMP\":1558108800000,\"TEMPERATURE_Out\":88.5,\"TEMPERATURE_In\":75.95},{\"TIME_STAMP\":1558112400000,\"TEMPERATURE_Out\":89.0,\"TEMPERATURE_In\":76.4333333333},{\"TIME_STAMP\":1558116000000,\"TEMPERATURE_Out\":89.0,\"TEMPERATURE_In\":76.65},{\"TIME_STAMP\":1558119600000,\"TEMPERATURE_Out\":85.8,\"TEMPERATURE_In\":76.6833333333},{\"TIME_STAMP\":1558123200000,\"TEMPERATURE_Out\":82.8,\"TEMPERATURE_In\":76.5833333333},{\"TIME_STAMP\":1558126800000,\"TEMPERATURE_Out\":80.9,\"TEMPERATURE_In\":76.6101694915},{\"TIME_STAMP\":1558130400000,\"TEMPERATURE_Out\":77.8,\"TEMPERATURE_In\":76.7666666667},{\"TIME_STAMP\":1558134000000,\"TEMPERATURE_Out\":75.3,\"TEMPERATURE_In\":76.1},{\"TIME_STAMP\":1558137600000,\"TEMPERATURE_Out\":74.1,\"TEMPERATURE_In\":76.4666666667},{\"TIME_STAMP\":1558141200000,\"TEMPERATURE_Out\":72.9,\"TEMPERATURE_In\":77.6666666667},{\"TIME_STAMP\":1558144800000,\"TEMPERATURE_Out\":71.8,\"TEMPERATURE_In\":77.3},{\"TIME_STAMP\":1558148400000,\"TEMPERATURE_Out\":70.7,\"TEMPERATURE_In\":77.2333333333},{\"TIME_STAMP\":1558152000000,\"TEMPERATURE_Out\":69.7,\"TEMPERATURE_In\":77.186440678},{\"TIME_STAMP\":1558155600000,\"TEMPERATURE_Out\":69.0,\"TEMPERATURE_In\":77.0166666667},{\"TIME_STAMP\":1558159200000,\"TEMPERATURE_Out\":68.2,\"TEMPERATURE_In\":77.0},{\"TIME_STAMP\":1558162800000,\"TEMPERATURE_Out\":68.0,\"TEMPERATURE_In\":76.95},{\"TIME_STAMP\":1558166400000,\"TEMPERATURE_Out\":69.7,\"TEMPERATURE_In\":77.0},{\"TIME_STAMP\":1558170000000,\"TEMPERATURE_Out\":74.4,\"TEMPERATURE_In\":77.0},{\"TIME_STAMP\":1558173600000,\"TEMPERATURE_Out\":78.0,\"TEMPERATURE_In\":77.1833333333},{\"TIME_STAMP\":1558177200000,\"TEMPERATURE_Out\":80.6,\"TEMPERATURE_In\":77.3833333333},{\"TIME_STAMP\":1558180800000,\"TEMPERATURE_Out\":83.2,\"TEMPERATURE_In\":77.4406779661},{\"TIME_STAMP\":1558184400000,\"TEMPERATURE_Out\":84.7,\"TEMPERATURE_In\":77.2},{\"TIME_STAMP\":1558188000000,\"TEMPERATURE_Out\":86.6,\"TEMPERATURE_In\":77.0},{\"TIME_STAMP\":1558191600000,\"TEMPERATURE_Out\":87.8,\"TEMPERATURE_In\":76.5666666667},{\"TIME_STAMP\":1558195200000,\"TEMPERATURE_Out\":87.3,\"TEMPERATURE_In\":76.1},{\"TIME_STAMP\":1558198800000,\"TEMPERATURE_Out\":87.6,\"TEMPERATURE_In\":76.25},{\"TIME_STAMP\":1558202400000,\"TEMPERATURE_Out\":87.1,\"TEMPERATURE_In\":76.7666666667},{\"TIME_STAMP\":1558206000000,\"TEMPERATURE_Out\":85.0,\"TEMPERATURE_In\":76.9322033898},{\"TIME_STAMP\":1558209600000,\"TEMPERATURE_Out\":84.2,\"TEMPERATURE_In\":77.0333333333},{\"TIME_STAMP\":1558213200000,\"TEMPERATURE_Out\":81.3,\"TEMPERATURE_In\":76.7},{\"TIME_STAMP\":1558216800000,\"TEMPERATURE_Out\":78.6,\"TEMPERATURE_In\":77.2333333333},{\"TIME_STAMP\":1558220400000,\"TEMPERATURE_Out\":76.5,\"TEMPERATURE_In\":77.0},{\"TIME_STAMP\":1558224000000,\"TEMPERATURE_Out\":76.0,\"TEMPERATURE_In\":76.9666666667},{\"TIME_STAMP\":1558227600000,\"TEMPERATURE_Out\":74.0,\"TEMPERATURE_In\":76.65},{\"TIME_STAMP\":1558231200000,\"TEMPERATURE_Out\":72.4,\"TEMPERATURE_In\":76.3666666667},{\"TIME_STAMP\":1558234800000,\"TEMPERATURE_Out\":72.1,\"TEMPERATURE_In\":76.1166666667},{\"TIME_STAMP\":1558238400000,\"TEMPERATURE_Out\":70.8,\"TEMPERATURE_In\":76.0},{\"TIME_STAMP\":1558242000000,\"TEMPERATURE_Out\":70.1,\"TEMPERATURE_In\":76.0},{\"TIME_STAMP\":1558245600000,\"TEMPERATURE_Out\":69.7,\"TEMPERATURE_In\":76.0},{\"TIME_STAMP\":1558249200000,\"TEMPERATURE_Out\":68.9,\"TEMPERATURE_In\":76.0},{\"TIME_STAMP\":1558252800000,\"TEMPERATURE_Out\":70.1,\"TEMPERATURE_In\":76.0},{\"TIME_STAMP\":1558256400000,\"TEMPERATURE_Out\":73.9,\"TEMPERATURE_In\":76.0},{\"TIME_STAMP\":1558260000000,\"TEMPERATURE_Out\":77.5,\"TEMPERATURE_In\":76.0},{\"TIME_STAMP\":1558263600000,\"TEMPERATURE_Out\":80.7,\"TEMPERATURE_In\":76.0},{\"TIME_STAMP\":1558267200000,\"TEMPERATURE_Out\":83.0,\"TEMPERATURE_In\":76.0},{\"TIME_STAMP\":1558270800000,\"TEMPERATURE_Out\":85.1,\"TEMPERATURE_In\":76.0},{\"TIME_STAMP\":1558274400000,\"TEMPERATURE_Out\":86.8,\"TEMPERATURE_In\":76.1166666667},{\"TIME_STAMP\":1558278000000,\"TEMPERATURE_Out\":88.0,\"TEMPERATURE_In\":76.55},{\"TIME_STAMP\":1558281600000,\"TEMPERATURE_Out\":89.0,\"TEMPERATURE_In\":76.7333333333},{\"TIME_STAMP\":1558285200000,\"TEMPERATURE_Out\":88.5,\"TEMPERATURE_In\":76.7333333333},{\"TIME_STAMP\":1558288800000,\"TEMPERATURE_Out\":88.8,\"TEMPERATURE_In\":76.3166666667},{\"TIME_STAMP\":1558292400000,\"TEMPERATURE_Out\":87.4,\"TEMPERATURE_In\":76.0},{\"TIME_STAMP\":1558296000000,\"TEMPERATURE_Out\":84.7,\"TEMPERATURE_In\":76.0},{\"TIME_STAMP\":1558299600000,\"TEMPERATURE_Out\":80.9,\"TEMPERATURE_In\":75.9833333333},{\"TIME_STAMP\":1558303200000,\"TEMPERATURE_Out\":77.7,\"TEMPERATURE_In\":76.9666666667},{\"TIME_STAMP\":1558306800000,\"TEMPERATURE_Out\":76.0,\"TEMPERATURE_In\":76.6666666667},{\"TIME_STAMP\":1558310400000,\"TEMPERATURE_Out\":74.8,\"TEMPERATURE_In\":76.8},{\"TIME_STAMP\":1558314000000,\"TEMPERATURE_Out\":73.2,\"TEMPERATURE_In\":76.95},{\"TIME_STAMP\":1558317600000,\"TEMPERATURE_Out\":72.1,\"TEMPERATURE_In\":77.0},{\"TIME_STAMP\":1558321200000,\"TEMPERATURE_Out\":71.5,\"TEMPERATURE_In\":77.0},{\"TIME_STAMP\":1558324800000,\"TEMPERATURE_Out\":71.0,\"TEMPERATURE_In\":77.0},{\"TIME_STAMP\":1558328400000,\"TEMPERATURE_Out\":71.2,\"TEMPERATURE_In\":77.0},{\"TIME_STAMP\":1558332000000,\"TEMPERATURE_Out\":71.7,\"TEMPERATURE_In\":77.0},{\"TIME_STAMP\":1558335600000,\"TEMPERATURE_Out\":72.0,\"TEMPERATURE_In\":76.8666666667},{\"TIME_STAMP\":1558339200000,\"TEMPERATURE_Out\":72.5,\"TEMPERATURE_In\":76.0},{\"TIME_STAMP\":1558342800000,\"TEMPERATURE_Out\":75.6,\"TEMPERATURE_In\":76.3666666667},{\"TIME_STAMP\":1558346400000,\"TEMPERATURE_Out\":77.8,\"TEMPERATURE_In\":76.85},{\"TIME_STAMP\":1558350000000,\"TEMPERATURE_Out\":79.9,\"TEMPERATURE_In\":76.8166666667},{\"TIME_STAMP\":1558353600000,\"TEMPERATURE_Out\":79.9,\"TEMPERATURE_In\":76.9322033898},{\"TIME_STAMP\":1558357200000,\"TEMPERATURE_Out\":82.8,\"TEMPERATURE_In\":76.9666666667},{\"TIME_STAMP\":1558360800000,\"TEMPERATURE_Out\":85.2,\"TEMPERATURE_In\":76.5166666667},{\"TIME_STAMP\":1558364400000,\"TEMPERATURE_Out\":87.5,\"TEMPERATURE_In\":76.3666666667},{\"TIME_STAMP\":1558368000000,\"TEMPERATURE_Out\":87.9,\"TEMPERATURE_In\":76.4166666667},{\"TIME_STAMP\":1558371600000,\"TEMPERATURE_Out\":88.2,\"TEMPERATURE_In\":76.8},{\"TIME_STAMP\":1558375200000,\"TEMPERATURE_Out\":88.3,\"TEMPERATURE_In\":76.95},{\"TIME_STAMP\":1558378800000,\"TEMPERATURE_Out\":87.2,\"TEMPERATURE_In\":77.0833333333},{\"TIME_STAMP\":1558382400000,\"TEMPERATURE_Out\":84.7,\"TEMPERATURE_In\":77.3898305085},{\"TIME_STAMP\":1558386000000,\"TEMPERATURE_Out\":80.6,\"TEMPERATURE_In\":77.8833333333},{\"TIME_STAMP\":1558389600000,\"TEMPERATURE_Out\":77.8,\"TEMPERATURE_In\":78.6166666667},{\"TIME_STAMP\":1558393200000,\"TEMPERATURE_Out\":75.4,\"TEMPERATURE_In\":78.3666666667},{\"TIME_STAMP\":1558396800000,\"TEMPERATURE_Out\":73.4,\"TEMPERATURE_In\":76.6666666667},{\"TIME_STAMP\":1558400400000,\"TEMPERATURE_Out\":71.6,\"TEMPERATURE_In\":76.3},{\"TIME_STAMP\":1558404000000,\"TEMPERATURE_Out\":69.9,\"TEMPERATURE_In\":76.0},{\"TIME_STAMP\":1558407600000,\"TEMPERATURE_Out\":68.6,\"TEMPERATURE_In\":76.0666666667},{\"TIME_STAMP\":1558411200000,\"TEMPERATURE_Out\":67.8,\"TEMPERATURE_In\":76.0},{\"TIME_STAMP\":1558414800000,\"TEMPERATURE_Out\":66.6,\"TEMPERATURE_In\":76.0},{\"TIME_STAMP\":1558418400000,\"TEMPERATURE_Out\":65.7,\"TEMPERATURE_In\":76.0},{\"TIME_STAMP\":1558422000000,\"TEMPERATURE_Out\":65.0,\"TEMPERATURE_In\":75.9166666667},{\"TIME_STAMP\":1558425600000,\"TEMPERATURE_Out\":67.0,\"TEMPERATURE_In\":75.75},{\"TIME_STAMP\":1558429200000,\"TEMPERATURE_Out\":72.4,\"TEMPERATURE_In\":75.9333333333},{\"TIME_STAMP\":1558432800000,\"TEMPERATURE_Out\":77.9,\"TEMPERATURE_In\":75.85},{\"TIME_STAMP\":1558436400000,\"TEMPERATURE_Out\":81.1,\"TEMPERATURE_In\":75.8644067797},{\"TIME_STAMP\":1558440000000,\"TEMPERATURE_Out\":83.3,\"TEMPERATURE_In\":75.95},{\"TIME_STAMP\":1558443600000,\"TEMPERATURE_Out\":84.9,\"TEMPERATURE_In\":75.9333333333},{\"TIME_STAMP\":1558447200000,\"TEMPERATURE_Out\":86.9,\"TEMPERATURE_In\":75.9},{\"TIME_STAMP\":1558450800000,\"TEMPERATURE_Out\":87.8,\"TEMPERATURE_In\":75.85},{\"TIME_STAMP\":1558454400000,\"TEMPERATURE_Out\":88.3,\"TEMPERATURE_In\":75.9},{\"TIME_STAMP\":1558458000000,\"TEMPERATURE_Out\":87.8,\"TEMPERATURE_In\":76.15},{\"TIME_STAMP\":1558461600000,\"TEMPERATURE_Out\":88.4,\"TEMPERATURE_In\":76.3166666667},{\"TIME_STAMP\":1558465200000,\"TEMPERATURE_Out\":88.4,\"TEMPERATURE_In\":76.3559322034},{\"TIME_STAMP\":1558468800000,\"TEMPERATURE_Out\":84.7,\"TEMPERATURE_In\":76.25},{\"TIME_STAMP\":1558472400000,\"TEMPERATURE_Out\":82.0,\"TEMPERATURE_In\":76.0333333333},{\"TIME_STAMP\":1558476000000,\"TEMPERATURE_Out\":79.5,\"TEMPERATURE_In\":76.3833333333},{\"TIME_STAMP\":1558479600000,\"TEMPERATURE_Out\":77.6,\"TEMPERATURE_In\":76.05},{\"TIME_STAMP\":1558483200000,\"TEMPERATURE_Out\":76.1,\"TEMPERATURE_In\":75.3833333333},{\"TIME_STAMP\":1558486800000,\"TEMPERATURE_Out\":75.5,\"TEMPERATURE_In\":75.3333333333},{\"TIME_STAMP\":1558490400000,\"TEMPERATURE_Out\":74.4,\"TEMPERATURE_In\":75.8166666667},{\"TIME_STAMP\":1558494000000,\"TEMPERATURE_Out\":74.6,\"TEMPERATURE_In\":75.9152542373},{\"TIME_STAMP\":1558497600000,\"TEMPERATURE_Out\":73.8,\"TEMPERATURE_In\":76.0},{\"TIME_STAMP\":1558501200000,\"TEMPERATURE_Out\":72.8,\"TEMPERATURE_In\":76.0333333333},{\"TIME_STAMP\":1558504800000,\"TEMPERATURE_Out\":71.7,\"TEMPERATURE_In\":76.0},{\"TIME_STAMP\":1558508400000,\"TEMPERATURE_Out\":71.0,\"TEMPERATURE_In\":76.0},{\"TIME_STAMP\":1558512000000,\"TEMPERATURE_Out\":72.9,\"TEMPERATURE_In\":76.0},{\"TIME_STAMP\":1558515600000,\"TEMPERATURE_Out\":77.6,\"TEMPERATURE_In\":74.7833333333},{\"TIME_STAMP\":1558519200000,\"TEMPERATURE_Out\":80.4,\"TEMPERATURE_In\":74.85},{\"TIME_STAMP\":1558522800000,\"TEMPERATURE_Out\":82.6,\"TEMPERATURE_In\":76.5254237288},{\"TIME_STAMP\":1558526400000,\"TEMPERATURE_Out\":85.4,\"TEMPERATURE_In\":76.2},{\"TIME_STAMP\":1558530000000,\"TEMPERATURE_Out\":86.9,\"TEMPERATURE_In\":76.2333333333},{\"TIME_STAMP\":1558533600000,\"TEMPERATURE_Out\":89.0,\"TEMPERATURE_In\":76.3166666667},{\"TIME_STAMP\":1558537200000,\"TEMPERATURE_Out\":90.4,\"TEMPERATURE_In\":76.45},{\"TIME_STAMP\":1558540800000,\"TEMPERATURE_Out\":90.9,\"TEMPERATURE_In\":76.5666666667},{\"TIME_STAMP\":1558544400000,\"TEMPERATURE_Out\":92.0,\"TEMPERATURE_In\":76.65},{\"TIME_STAMP\":1558548000000,\"TEMPERATURE_Out\":91.2,\"TEMPERATURE_In\":76.8833333333},{\"TIME_STAMP\":1558551600000,\"TEMPERATURE_Out\":89.8,\"TEMPERATURE_In\":76.9166666667},{\"TIME_STAMP\":1558555200000,\"TEMPERATURE_Out\":88.4,\"TEMPERATURE_In\":76.6440677966},{\"TIME_STAMP\":1558558800000,\"TEMPERATURE_Out\":85.0,\"TEMPERATURE_In\":76.55},{\"TIME_STAMP\":1558562400000,\"TEMPERATURE_Out\":84.7,\"TEMPERATURE_In\":76.4166666667},{\"TIME_STAMP\":1558566000000,\"TEMPERATURE_Out\":83.0,\"TEMPERATURE_In\":76.5666666667},{\"TIME_STAMP\":1558569600000,\"TEMPERATURE_Out\":80.7,\"TEMPERATURE_In\":77.1},{\"TIME_STAMP\":1558573200000,\"TEMPERATURE_Out\":79.0,\"TEMPERATURE_In\":77.3166666667},{\"TIME_STAMP\":1558576800000,\"TEMPERATURE_Out\":78.0,\"TEMPERATURE_In\":77.35},{\"TIME_STAMP\":1558580400000,\"TEMPERATURE_Out\":77.0,\"TEMPERATURE_In\":77.2833333333},{\"TIME_STAMP\":1558584000000,\"TEMPERATURE_Out\":76.5,\"TEMPERATURE_In\":77.35},{\"TIME_STAMP\":1558587600000,\"TEMPERATURE_Out\":76.0,\"TEMPERATURE_In\":77.3559322034},{\"TIME_STAMP\":1558591200000,\"TEMPERATURE_Out\":75.0,\"TEMPERATURE_In\":77.55},{\"TIME_STAMP\":1558594800000,\"TEMPERATURE_Out\":74.4,\"TEMPERATURE_In\":77.2833333333},{\"TIME_STAMP\":1558598400000,\"TEMPERATURE_Out\":75.4,\"TEMPERATURE_In\":77.3666666667},{\"TIME_STAMP\":1558602000000,\"TEMPERATURE_Out\":77.8,\"TEMPERATURE_In\":77.45},{\"TIME_STAMP\":1558605600000,\"TEMPERATURE_Out\":80.1,\"TEMPERATURE_In\":77.5833333333},{\"TIME_STAMP\":1558609200000,\"TEMPERATURE_Out\":81.6,\"TEMPERATURE_In\":77.2333333333},{\"TIME_STAMP\":1558612800000,\"TEMPERATURE_Out\":83.2,\"TEMPERATURE_In\":77.2372881356},{\"TIME_STAMP\":1558616400000,\"TEMPERATURE_Out\":85.5,\"TEMPERATURE_In\":77.2166666667},{\"TIME_STAMP\":1558620000000,\"TEMPERATURE_Out\":87.1,\"TEMPERATURE_In\":77.15},{\"TIME_STAMP\":1558623600000,\"TEMPERATURE_Out\":87.6,\"TEMPERATURE_In\":77.3166666667},{\"TIME_STAMP\":1558627200000,\"TEMPERATURE_Out\":87.7,\"TEMPERATURE_In\":77.6833333333},{\"TIME_STAMP\":1558630800000,\"TEMPERATURE_Out\":87.6,\"TEMPERATURE_In\":77.9666666667},{\"TIME_STAMP\":1558634400000,\"TEMPERATURE_Out\":88.6,\"TEMPERATURE_In\":78.0},{\"TIME_STAMP\":1558638000000,\"TEMPERATURE_Out\":88.3,\"TEMPERATURE_In\":78.0666666667},{\"TIME_STAMP\":1558641600000,\"TEMPERATURE_Out\":86.7,\"TEMPERATURE_In\":77.75},{\"TIME_STAMP\":1558645200000,\"TEMPERATURE_Out\":85.6,\"TEMPERATURE_In\":77.0338983051},{\"TIME_STAMP\":1558648800000,\"TEMPERATURE_Out\":84.1,\"TEMPERATURE_In\":77.7166666667},{\"TIME_STAMP\":1558652400000,\"TEMPERATURE_Out\":82.1,\"TEMPERATURE_In\":77.5166666667},{\"TIME_STAMP\":1558656000000,\"TEMPERATURE_Out\":80.4,\"TEMPERATURE_In\":76.5833333333},{\"TIME_STAMP\":1558659600000,\"TEMPERATURE_Out\":78.4,\"TEMPERATURE_In\":76.3333333333},{\"TIME_STAMP\":1558663200000,\"TEMPERATURE_Out\":77.3,\"TEMPERATURE_In\":76.35},{\"TIME_STAMP\":1558666800000,\"TEMPERATURE_Out\":76.0,\"TEMPERATURE_In\":76.5166666667},{\"TIME_STAMP\":1558670400000,\"TEMPERATURE_Out\":75.0,\"TEMPERATURE_In\":76.5},{\"TIME_STAMP\":1558674000000,\"TEMPERATURE_Out\":74.0,\"TEMPERATURE_In\":76.5762711864},{\"TIME_STAMP\":1558677600000,\"TEMPERATURE_Out\":73.9,\"TEMPERATURE_In\":76.5333333333},{\"TIME_STAMP\":1558681200000,\"TEMPERATURE_Out\":73.2,\"TEMPERATURE_In\":76.2166666667},{\"TIME_STAMP\":1558684800000,\"TEMPERATURE_Out\":74.0,\"TEMPERATURE_In\":76.3333333333},{\"TIME_STAMP\":1558688400000,\"TEMPERATURE_Out\":77.7,\"TEMPERATURE_In\":76.45},{\"TIME_STAMP\":1558692000000,\"TEMPERATURE_Out\":81.3,\"TEMPERATURE_In\":76.5333333333},{\"TIME_STAMP\":1558695600000,\"TEMPERATURE_Out\":84.0,\"TEMPERATURE_In\":76.3166666667},{\"TIME_STAMP\":1558699200000,\"TEMPERATURE_Out\":87.0,\"TEMPERATURE_In\":76.5166666667},{\"TIME_STAMP\":1558702800000,\"TEMPERATURE_Out\":88.5,\"TEMPERATURE_In\":76.7272727273}]'"
      ]
     },
     "execution_count": 11,
     "metadata": {},
     "output_type": "execute_result"
    }
   ],
   "source": [
    "json_df"
   ]
  },
  {
   "cell_type": "code",
   "execution_count": null,
   "metadata": {},
   "outputs": [],
   "source": [
    "# Creating indoor and Outdoor Datasets\n",
    "outdoor = master_df.loc[:,[\"TIME_STAMP\", \"TEMPERATURE_Out\"]]\n",
    "indoor = master_df.loc[:,[\"TIME_STAMP\", \"TEMPERATURE_In\"]]\n",
    "outdoor.columns = ['ds', 'y']\n",
    "indoor.columns = ['ds', 'y']"
   ]
  },
  {
   "cell_type": "code",
   "execution_count": null,
   "metadata": {},
   "outputs": [],
   "source": [
    "# Export to csv\n",
    "outdoor.to_csv(\"fbp.csv\", sep=',', encoding='utf-8')"
   ]
  },
  {
   "cell_type": "code",
   "execution_count": null,
   "metadata": {},
   "outputs": [],
   "source": [
    "# Grouping by Hour\n",
    "outdoor = outdoor.groupby(['ds'], as_index=False).y.mean()\n",
    "indoor = indoor.groupby(['ds'], as_index=False).y.mean()"
   ]
  },
  {
   "cell_type": "code",
   "execution_count": null,
   "metadata": {},
   "outputs": [],
   "source": [
    "indoor.head()"
   ]
  },
  {
   "cell_type": "code",
   "execution_count": null,
   "metadata": {},
   "outputs": [],
   "source": [
    "# Building the model for inodor and outdoor\n",
    "od = Prophet()\n",
    "od.fit(outdoor)\n",
    "ind = Prophet()\n",
    "ind.fit(indoor)"
   ]
  },
  {
   "cell_type": "code",
   "execution_count": null,
   "metadata": {},
   "outputs": [],
   "source": [
    "# Outdoor forecasting\n",
    "od_future = od.make_future_dataframe(periods= 1)\n",
    "od_forecast = od.predict(od_future)\n",
    "# Export to csv\n",
    "od_forecast.to_csv(\"od_forecast.csv\", sep=',', encoding='utf-8')\n",
    "od_forecast.head()"
   ]
  },
  {
   "cell_type": "code",
   "execution_count": null,
   "metadata": {},
   "outputs": [],
   "source": [
    "# Indoor forecasting\n",
    "ind_future = ind.make_future_dataframe(periods= 1)\n",
    "ind_forecast = ind.predict(ind_future)\n",
    "ind_forecast.to_csv(\"ind_forecast.csv\", sep=',', encoding='utf-8')\n",
    "ind_forecast.head()"
   ]
  },
  {
   "cell_type": "code",
   "execution_count": null,
   "metadata": {},
   "outputs": [],
   "source": [
    "# Outdoor plot with forecasting\n",
    "od_plot = od.plot(od_forecast)"
   ]
  },
  {
   "cell_type": "code",
   "execution_count": null,
   "metadata": {},
   "outputs": [],
   "source": [
    "# Indoor plot with forecasting\n",
    "ind_plot = ind.plot(ind_forecast)"
   ]
  },
  {
   "cell_type": "code",
   "execution_count": null,
   "metadata": {},
   "outputs": [],
   "source": [
    "# Print outdoor trend and daily component\n",
    "od_fig1 = od.plot_components(od_forecast)"
   ]
  },
  {
   "cell_type": "code",
   "execution_count": null,
   "metadata": {},
   "outputs": [],
   "source": [
    "# Print indoor trend and daily component\n",
    "ind_fig1 = ind.plot_components(ind_forecast)"
   ]
  },
  {
   "cell_type": "code",
   "execution_count": null,
   "metadata": {},
   "outputs": [],
   "source": [
    "# Print outdoor \n",
    "py.init_notebook_mode()\n",
    "od_fig = plot_plotly(od, od_forecast)  # This returns a plotly Figure\n",
    "py.iplot(od_fig)"
   ]
  },
  {
   "cell_type": "code",
   "execution_count": null,
   "metadata": {},
   "outputs": [],
   "source": [
    "# Print indoor plotly figure\n",
    "ind_fig = plot_plotly(ind, ind_forecast)  # This returns a plotly Figure\n",
    "py.iplot(ind_fig)"
   ]
  },
  {
   "cell_type": "code",
   "execution_count": null,
   "metadata": {},
   "outputs": [],
   "source": [
    "# Producing full plot for outdoor data\n",
    "py.iplot([\n",
    "    go.Scatter(x=outdoor['ds'], y=outdoor['y'], name='y'),\n",
    "    go.Scatter(x=od_forecast['ds'], y=od_forecast['yhat'], name='yhat'),\n",
    "    go.Scatter(x=od_forecast['ds'], y=od_forecast['yhat_upper'], fill='tonexty', mode='none', name='upper'),\n",
    "    go.Scatter(x=od_forecast['ds'], y=od_forecast['yhat_lower'], fill='tonexty', mode='none', name='lower'),\n",
    "    go.Scatter(x=od_forecast['ds'], y=od_forecast['trend'], name='Trend')\n",
    "])"
   ]
  },
  {
   "cell_type": "code",
   "execution_count": null,
   "metadata": {},
   "outputs": [],
   "source": [
    "# Producing full plot for indoor data\n",
    "py.iplot([\n",
    "    go.Scatter(x=indoor['ds'], y=indoor['y'], name='y'),\n",
    "    go.Scatter(x=ind_forecast['ds'], y=ind_forecast['yhat'], name='yhat'),\n",
    "    go.Scatter(x=ind_forecast['ds'], y=ind_forecast['yhat_upper'], fill='tonexty', mode='none', name='upper'),\n",
    "    go.Scatter(x=ind_forecast['ds'], y=ind_forecast['yhat_lower'], fill='tonexty', mode='none', name='lower'),\n",
    "    go.Scatter(x=ind_forecast['ds'], y=ind_forecast['trend'], name='Trend')\n",
    "])"
   ]
  },
  {
   "cell_type": "code",
   "execution_count": null,
   "metadata": {},
   "outputs": [],
   "source": []
  }
 ],
 "metadata": {
  "kernelspec": {
   "display_name": "Python (pr3)",
   "language": "python",
   "name": "pr3"
  },
  "language_info": {
   "codemirror_mode": {
    "name": "ipython",
    "version": 3
   },
   "file_extension": ".py",
   "mimetype": "text/x-python",
   "name": "python",
   "nbconvert_exporter": "python",
   "pygments_lexer": "ipython3",
   "version": "3.7.3"
  }
 },
 "nbformat": 4,
 "nbformat_minor": 2
}
