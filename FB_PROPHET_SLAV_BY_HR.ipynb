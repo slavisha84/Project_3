{
 "cells": [
  {
   "cell_type": "code",
   "execution_count": 1,
   "metadata": {},
   "outputs": [],
   "source": [
    "# import dependencies\n",
    "import pandas as pd\n",
    "import sqlite3\n",
    "from datetime import datetime, timedelta\n",
    "from fbprophet import Prophet\n",
    "\n",
    "from fbprophet.plot import plot_plotly\n",
    "import plotly.offline as py\n",
    "\n",
    "import plotly.offline as py\n",
    "import plotly.graph_objs as go"
   ]
  },
  {
   "cell_type": "code",
   "execution_count": 2,
   "metadata": {},
   "outputs": [],
   "source": [
    "# Create your connections with indoor and outdoor databases\n",
    "Ocnx = sqlite3.connect('Outdoor.db')\n",
    "Icnx = sqlite3.connect('Indoor.db')\n",
    "Outdoor_df = pd.read_sql_query(\"SELECT * FROM BME_DATA\", Ocnx)\n",
    "Outdoor_df = Outdoor_df.iloc[1:]\n",
    "Indoor_df = pd.read_sql_query(\"SELECT * FROM BME_DATA\", Icnx)\n",
    "Indoor_df = Indoor_df.iloc[1:]"
   ]
  },
  {
   "cell_type": "code",
   "execution_count": 3,
   "metadata": {},
   "outputs": [
    {
     "data": {
      "text/html": [
       "<div>\n",
       "<style scoped>\n",
       "    .dataframe tbody tr th:only-of-type {\n",
       "        vertical-align: middle;\n",
       "    }\n",
       "\n",
       "    .dataframe tbody tr th {\n",
       "        vertical-align: top;\n",
       "    }\n",
       "\n",
       "    .dataframe thead th {\n",
       "        text-align: right;\n",
       "    }\n",
       "</style>\n",
       "<table border=\"1\" class=\"dataframe\">\n",
       "  <thead>\n",
       "    <tr style=\"text-align: right;\">\n",
       "      <th></th>\n",
       "      <th>TIME_STAMP</th>\n",
       "      <th>TEMPERATURE</th>\n",
       "      <th>GAS</th>\n",
       "      <th>HUMIDITY</th>\n",
       "      <th>PRESSURE</th>\n",
       "    </tr>\n",
       "  </thead>\n",
       "  <tbody>\n",
       "    <tr>\n",
       "      <th>0</th>\n",
       "      <td>2019-05-12 19:00:00</td>\n",
       "      <td>75.0</td>\n",
       "      <td>367019.2</td>\n",
       "      <td>84.8</td>\n",
       "      <td>975.0</td>\n",
       "    </tr>\n",
       "    <tr>\n",
       "      <th>1</th>\n",
       "      <td>2019-05-12 20:00:00</td>\n",
       "      <td>73.0</td>\n",
       "      <td>195655.8</td>\n",
       "      <td>89.4</td>\n",
       "      <td>975.2</td>\n",
       "    </tr>\n",
       "    <tr>\n",
       "      <th>2</th>\n",
       "      <td>2019-05-12 21:00:00</td>\n",
       "      <td>72.0</td>\n",
       "      <td>182528.4</td>\n",
       "      <td>92.0</td>\n",
       "      <td>975.7</td>\n",
       "    </tr>\n",
       "    <tr>\n",
       "      <th>3</th>\n",
       "      <td>2019-05-12 22:00:00</td>\n",
       "      <td>72.0</td>\n",
       "      <td>342664.5</td>\n",
       "      <td>91.5</td>\n",
       "      <td>976.1</td>\n",
       "    </tr>\n",
       "    <tr>\n",
       "      <th>4</th>\n",
       "      <td>2019-05-12 23:00:00</td>\n",
       "      <td>71.0</td>\n",
       "      <td>268596.2</td>\n",
       "      <td>90.1</td>\n",
       "      <td>976.8</td>\n",
       "    </tr>\n",
       "  </tbody>\n",
       "</table>\n",
       "</div>"
      ],
      "text/plain": [
       "           TIME_STAMP  TEMPERATURE       GAS  HUMIDITY  PRESSURE\n",
       "0 2019-05-12 19:00:00         75.0  367019.2      84.8     975.0\n",
       "1 2019-05-12 20:00:00         73.0  195655.8      89.4     975.2\n",
       "2 2019-05-12 21:00:00         72.0  182528.4      92.0     975.7\n",
       "3 2019-05-12 22:00:00         72.0  342664.5      91.5     976.1\n",
       "4 2019-05-12 23:00:00         71.0  268596.2      90.1     976.8"
      ]
     },
     "execution_count": 3,
     "metadata": {},
     "output_type": "execute_result"
    }
   ],
   "source": [
    "# Cleaning up Outdoor Data\n",
    "Outdoor_df['TIME_STAMP'] = pd.to_datetime(Outdoor_df['TIME_STAMP'])\n",
    "Outdoor_df['TIME_STAMP'] = Outdoor_df['TIME_STAMP'].dt.round('60min')\n",
    "Outdoor_df = Outdoor_df.groupby(['TIME_STAMP'], as_index=False)[\"TEMPERATURE\",\"GAS\",\"HUMIDITY\", \"PRESSURE\", \"ALTITUDE\"].mean()\n",
    "Outdoor_df = Outdoor_df.loc[:,[\"TIME_STAMP\", \"TEMPERATURE\", \"GAS\", \"HUMIDITY\", \"PRESSURE\"]]\n",
    "Outdoor_df[\"GAS\"] = round(Outdoor_df[\"GAS\"],1)\n",
    "Outdoor_df[\"HUMIDITY\"] = round(Outdoor_df[\"HUMIDITY\"],1)\n",
    "Outdoor_df[\"TEMPERATURE\"] = round(Outdoor_df[\"TEMPERATURE\"],1)\n",
    "Outdoor_df[\"PRESSURE\"] = round(Outdoor_df[\"PRESSURE\"],1)\n",
    "Outdoor_df['TEMPERATURE'] = round((Outdoor_df['TEMPERATURE']* 9/5) + 32)\n",
    "Outdoor_df.head()"
   ]
  },
  {
   "cell_type": "code",
   "execution_count": 4,
   "metadata": {},
   "outputs": [
    {
     "data": {
      "text/html": [
       "<div>\n",
       "<style scoped>\n",
       "    .dataframe tbody tr th:only-of-type {\n",
       "        vertical-align: middle;\n",
       "    }\n",
       "\n",
       "    .dataframe tbody tr th {\n",
       "        vertical-align: top;\n",
       "    }\n",
       "\n",
       "    .dataframe thead th {\n",
       "        text-align: right;\n",
       "    }\n",
       "</style>\n",
       "<table border=\"1\" class=\"dataframe\">\n",
       "  <thead>\n",
       "    <tr style=\"text-align: right;\">\n",
       "      <th></th>\n",
       "      <th>TIME_STAMP</th>\n",
       "      <th>TEMPERATURE</th>\n",
       "      <th>GAS</th>\n",
       "      <th>HUMIDITY</th>\n",
       "      <th>PRESSURE</th>\n",
       "    </tr>\n",
       "  </thead>\n",
       "  <tbody>\n",
       "    <tr>\n",
       "      <th>0</th>\n",
       "      <td>2019-05-12 19:00:00</td>\n",
       "      <td>75.0</td>\n",
       "      <td>4203911.7</td>\n",
       "      <td>84.8</td>\n",
       "      <td>972.9</td>\n",
       "    </tr>\n",
       "    <tr>\n",
       "      <th>1</th>\n",
       "      <td>2019-05-12 20:00:00</td>\n",
       "      <td>75.0</td>\n",
       "      <td>1188237.0</td>\n",
       "      <td>89.4</td>\n",
       "      <td>973.0</td>\n",
       "    </tr>\n",
       "    <tr>\n",
       "      <th>2</th>\n",
       "      <td>2019-05-12 21:00:00</td>\n",
       "      <td>74.0</td>\n",
       "      <td>723933.0</td>\n",
       "      <td>92.0</td>\n",
       "      <td>973.4</td>\n",
       "    </tr>\n",
       "    <tr>\n",
       "      <th>3</th>\n",
       "      <td>2019-05-12 22:00:00</td>\n",
       "      <td>75.0</td>\n",
       "      <td>723933.0</td>\n",
       "      <td>91.5</td>\n",
       "      <td>973.9</td>\n",
       "    </tr>\n",
       "    <tr>\n",
       "      <th>4</th>\n",
       "      <td>2019-05-12 23:00:00</td>\n",
       "      <td>75.0</td>\n",
       "      <td>723933.0</td>\n",
       "      <td>90.1</td>\n",
       "      <td>974.6</td>\n",
       "    </tr>\n",
       "  </tbody>\n",
       "</table>\n",
       "</div>"
      ],
      "text/plain": [
       "           TIME_STAMP  TEMPERATURE        GAS  HUMIDITY  PRESSURE\n",
       "0 2019-05-12 19:00:00         75.0  4203911.7      84.8     972.9\n",
       "1 2019-05-12 20:00:00         75.0  1188237.0      89.4     973.0\n",
       "2 2019-05-12 21:00:00         74.0   723933.0      92.0     973.4\n",
       "3 2019-05-12 22:00:00         75.0   723933.0      91.5     973.9\n",
       "4 2019-05-12 23:00:00         75.0   723933.0      90.1     974.6"
      ]
     },
     "execution_count": 4,
     "metadata": {},
     "output_type": "execute_result"
    }
   ],
   "source": [
    "# Cleaning up Indoor Data\n",
    "Indoor_df['TIME_STAMP'] = pd.to_datetime(Indoor_df['TIME_STAMP'])\n",
    "Indoor_df['TIME_STAMP'] = Indoor_df['TIME_STAMP'].dt.round('60min')\n",
    "Indoor_df = Indoor_df.groupby(['TIME_STAMP'], as_index=False)[\"TEMPERATURE\",\"GAS\",\"HUMIDITY\", \"PRESSURE\", \"ALTITUDE\"].mean()\n",
    "Indoor_df = Indoor_df.loc[:,[\"TIME_STAMP\", \"TEMPERATURE\", \"GAS\", \"HUMIDITY\", \"PRESSURE\"]]\n",
    "Indoor_df[\"GAS\"] = round(Indoor_df[\"GAS\"],1)\n",
    "Indoor_df[\"HUMIDITY\"] = round(Outdoor_df[\"HUMIDITY\"],1)\n",
    "Indoor_df[\"TEMPERATURE\"] = round(Indoor_df[\"TEMPERATURE\"],1)\n",
    "Indoor_df[\"PRESSURE\"] = round(Indoor_df[\"PRESSURE\"],1)\n",
    "Indoor_df['TEMPERATURE'] = round((Indoor_df['TEMPERATURE']* 9/5) + 32)\n",
    "Indoor_df.head()"
   ]
  },
  {
   "cell_type": "code",
   "execution_count": 5,
   "metadata": {},
   "outputs": [],
   "source": [
    "# Merging Indor and Outdoor (on time stamp)\n",
    "master_df = pd.merge(Outdoor_df, Indoor_df, on = \"TIME_STAMP\", how = \"left\", suffixes=(\"_Out\",\"_In\"))\n",
    "master_df= master_df.dropna()\n",
    "master_df.head()\n",
    "master_df.to_csv(\"Merged_Data.csv\", sep=',', encoding='utf-8')"
   ]
  },
  {
   "cell_type": "code",
   "execution_count": 6,
   "metadata": {},
   "outputs": [],
   "source": [
    "# Creating Json for chart1\n",
    "prep_json = master_df.loc[:,[\"TIME_STAMP\", \"TEMPERATURE_Out\",\"TEMPERATURE_In\"]]\n",
    "json_df = prep_json.to_json(orient='records')"
   ]
  },
  {
   "cell_type": "code",
   "execution_count": null,
   "metadata": {},
   "outputs": [],
   "source": [
    "# Creating indoor and Outdoor Datasets\n",
    "outdoor = master_df.loc[:,[\"TIME_STAMP\", \"TEMPERATURE_Out\"]]\n",
    "indoor = master_df.loc[:,[\"TIME_STAMP\", \"TEMPERATURE_In\"]]\n",
    "outdoor.columns = ['ds', 'y']\n",
    "indoor.columns = ['ds', 'y']"
   ]
  },
  {
   "cell_type": "code",
   "execution_count": null,
   "metadata": {},
   "outputs": [],
   "source": [
    "# Export to csv\n",
    "outdoor.to_csv(\"indoor_data.csv\", sep=',', encoding='utf-8')\n",
    "indoor.to_csv(\"outdoor_data.csv\", sep=',', encoding='utf-8')"
   ]
  },
  {
   "cell_type": "code",
   "execution_count": null,
   "metadata": {},
   "outputs": [],
   "source": [
    "# Building the model for inodor and outdoor\n",
    "od = Prophet()\n",
    "od.fit(outdoor)\n",
    "ind = Prophet()\n",
    "ind.fit(indoor)"
   ]
  },
  {
   "cell_type": "code",
   "execution_count": null,
   "metadata": {},
   "outputs": [],
   "source": [
    "# Outdoor forecasting\n",
    "od_future = od.make_future_dataframe(periods= 1)\n",
    "od_forecast = od.predict(od_future)\n",
    "# Export to csv\n",
    "od_forecast.to_csv(\"od_forecast.csv\", sep=',', encoding='utf-8')\n",
    "od_forecast.head()"
   ]
  },
  {
   "cell_type": "code",
   "execution_count": null,
   "metadata": {},
   "outputs": [],
   "source": [
    "# Indoor forecasting\n",
    "ind_future = ind.make_future_dataframe(periods= 1)\n",
    "ind_forecast = ind.predict(ind_future)\n",
    "ind_forecast.to_csv(\"ind_forecast.csv\", sep=',', encoding='utf-8')\n",
    "ind_forecast.head()"
   ]
  },
  {
   "cell_type": "code",
   "execution_count": null,
   "metadata": {},
   "outputs": [],
   "source": [
    "# Outdoor plot with forecasting\n",
    "od_plot = od.plot(od_forecast)"
   ]
  },
  {
   "cell_type": "code",
   "execution_count": null,
   "metadata": {},
   "outputs": [],
   "source": [
    "# Indoor plot with forecasting\n",
    "ind_plot = ind.plot(ind_forecast)"
   ]
  },
  {
   "cell_type": "code",
   "execution_count": null,
   "metadata": {},
   "outputs": [],
   "source": [
    "# Print outdoor trend and daily component\n",
    "od_fig1 = od.plot_components(od_forecast)"
   ]
  },
  {
   "cell_type": "code",
   "execution_count": null,
   "metadata": {},
   "outputs": [],
   "source": [
    "# Print indoor trend and daily component\n",
    "ind_fig1 = ind.plot_components(ind_forecast)"
   ]
  },
  {
   "cell_type": "code",
   "execution_count": null,
   "metadata": {},
   "outputs": [],
   "source": [
    "# Print outdoor \n",
    "py.init_notebook_mode()\n",
    "od_fig = plot_plotly(od, od_forecast)  # This returns a plotly Figure\n",
    "py.iplot(od_fig)"
   ]
  },
  {
   "cell_type": "code",
   "execution_count": null,
   "metadata": {},
   "outputs": [],
   "source": [
    "# Print indoor plotly figure\n",
    "ind_fig = plot_plotly(ind, ind_forecast)  # This returns a plotly Figure\n",
    "py.iplot(ind_fig)"
   ]
  },
  {
   "cell_type": "code",
   "execution_count": null,
   "metadata": {},
   "outputs": [],
   "source": [
    "# Producing full plot for outdoor data\n",
    "py.iplot([\n",
    "    go.Scatter(x=outdoor['ds'], y=outdoor['y'], name='y'),\n",
    "    go.Scatter(x=od_forecast['ds'], y=od_forecast['yhat'], name='yhat'),\n",
    "    go.Scatter(x=od_forecast['ds'], y=od_forecast['yhat_upper'], fill='tonexty', mode='none', name='upper'),\n",
    "    go.Scatter(x=od_forecast['ds'], y=od_forecast['yhat_lower'], fill='tonexty', mode='none', name='lower'),\n",
    "    go.Scatter(x=od_forecast['ds'], y=od_forecast['trend'], name='Trend')\n",
    "])"
   ]
  },
  {
   "cell_type": "code",
   "execution_count": null,
   "metadata": {},
   "outputs": [],
   "source": [
    "# Producing full plot for indoor data\n",
    "py.iplot([\n",
    "    go.Scatter(x=indoor['ds'], y=indoor['y'], name='y'),\n",
    "    go.Scatter(x=ind_forecast['ds'], y=ind_forecast['yhat'], name='yhat'),\n",
    "    go.Scatter(x=ind_forecast['ds'], y=ind_forecast['yhat_upper'], fill='tonexty', mode='none', name='upper'),\n",
    "    go.Scatter(x=ind_forecast['ds'], y=ind_forecast['yhat_lower'], fill='tonexty', mode='none', name='lower'),\n",
    "    go.Scatter(x=ind_forecast['ds'], y=ind_forecast['trend'], name='Trend')\n",
    "])"
   ]
  },
  {
   "cell_type": "code",
   "execution_count": null,
   "metadata": {},
   "outputs": [],
   "source": []
  }
 ],
 "metadata": {
  "kernelspec": {
   "display_name": "Python (pr3)",
   "language": "python",
   "name": "pr3"
  },
  "language_info": {
   "codemirror_mode": {
    "name": "ipython",
    "version": 3
   },
   "file_extension": ".py",
   "mimetype": "text/x-python",
   "name": "python",
   "nbconvert_exporter": "python",
   "pygments_lexer": "ipython3",
   "version": "3.7.3"
  }
 },
 "nbformat": 4,
 "nbformat_minor": 2
}
