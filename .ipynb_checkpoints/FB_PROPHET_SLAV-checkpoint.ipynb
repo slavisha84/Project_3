{
 "cells": [
  {
   "cell_type": "code",
   "execution_count": null,
   "metadata": {},
   "outputs": [],
   "source": [
    "# import dependencies\n",
    "import pandas as pd\n",
    "import sqlite3\n",
    "from datetime import datetime, timedelta\n",
    "from fbprophet import Prophet\n",
    "\n",
    "from fbprophet.plot import plot_plotly\n",
    "import plotly.offline as py\n",
    "\n",
    "import plotly.offline as py\n",
    "import plotly.graph_objs as go"
   ]
  },
  {
   "cell_type": "code",
   "execution_count": null,
   "metadata": {},
   "outputs": [],
   "source": [
    "# Create your connections with indoor and outdoor databases\n",
    "Ocnx = sqlite3.connect('Outdoor.db')\n",
    "Icnx = sqlite3.connect('Indoor.db')\n",
    "Outdoor_df = pd.read_sql_query(\"SELECT * FROM BME_DATA\", Ocnx)\n",
    "Indoor_df = pd.read_sql_query(\"SELECT * FROM BME_DATA\", Icnx)"
   ]
  },
  {
   "cell_type": "code",
   "execution_count": null,
   "metadata": {},
   "outputs": [],
   "source": [
    "# Convert time into datetime\n",
    "Outdoor_df['TIME_STAMP'] = pd.to_datetime(Outdoor_df['TIME_STAMP'])\n",
    "Indoor_df['TIME_STAMP'] = pd.to_datetime(Indoor_df['TIME_STAMP'])"
   ]
  },
  {
   "cell_type": "code",
   "execution_count": null,
   "metadata": {},
   "outputs": [],
   "source": [
    "Outdoor_df['TIME_STAMP'] = Outdoor_df['TIME_STAMP'].dt.round('1min')\n",
    "Indoor_df['TIME_STAMP'] = Indoor_df['TIME_STAMP'].dt.round('1min')"
   ]
  },
  {
   "cell_type": "code",
   "execution_count": null,
   "metadata": {},
   "outputs": [],
   "source": [
    "# Deleting the wrong input at the first rows\n",
    "Outdoor_df = Outdoor_df.iloc[1:]\n",
    "Indoor_df = Indoor_df.iloc[1:]"
   ]
  },
  {
   "cell_type": "code",
   "execution_count": null,
   "metadata": {},
   "outputs": [],
   "source": [
    "# converting temperature from C to f\n",
    "Outdoor_df['TEMPERATURE'] = round((Outdoor_df['TEMPERATURE']* 9/5) + 32)\n",
    "Indoor_df['TEMPERATURE'] = round((Indoor_df['TEMPERATURE']* 9/5) + 32)"
   ]
  },
  {
   "cell_type": "code",
   "execution_count": null,
   "metadata": {},
   "outputs": [],
   "source": [
    "# Merging Indor and Outdoor (on time stamp)\n",
    "master_df = pd.merge(Outdoor_df, Indoor_df, on = \"TIME_STAMP\", how = \"left\", suffixes=(\"_Out\",\"_In\"))\n"
   ]
  },
  {
   "cell_type": "code",
   "execution_count": null,
   "metadata": {},
   "outputs": [],
   "source": [
    "# Dropping NAs\n",
    "master_df= master_df.dropna()\n",
    "master_df.head()"
   ]
  },
  {
   "cell_type": "code",
   "execution_count": null,
   "metadata": {},
   "outputs": [],
   "source": [
    "# Creating indoor and Outdoor Datasets\n",
    "outdoor = master_df.loc[:,[\"TIME_STAMP\", \"TEMPERATURE_Out\"]]\n",
    "indoor = master_df.loc[:,[\"TIME_STAMP\", \"TEMPERATURE_In\"]]\n",
    "outdoor.columns = ['ds', 'y']\n",
    "indoor.columns = ['ds', 'y']"
   ]
  },
  {
   "cell_type": "code",
   "execution_count": null,
   "metadata": {},
   "outputs": [],
   "source": [
    "# Export to csv\n",
    "outdoor.to_csv(\"fbp.csv\", sep=',', encoding='utf-8')"
   ]
  },
  {
   "cell_type": "code",
   "execution_count": null,
   "metadata": {},
   "outputs": [],
   "source": [
    "# Building the model for inodor and outdoor\n",
    "od = Prophet()\n",
    "od.fit(outdoor)\n",
    "ind = Prophet()\n",
    "ind.fit(indoor)"
   ]
  },
  {
   "cell_type": "code",
   "execution_count": null,
   "metadata": {},
   "outputs": [],
   "source": [
    "# Outdoor forecasting\n",
    "od_future = od.make_future_dataframe(periods= 1)\n",
    "od_forecast = od.predict(od_future)\n",
    "od_forecast.head()"
   ]
  },
  {
   "cell_type": "code",
   "execution_count": null,
   "metadata": {},
   "outputs": [],
   "source": [
    "# Indoor forecasting\n",
    "ind_future = ind.make_future_dataframe(periods= 1)\n",
    "ind_forecast = ind.predict(ind_future)\n",
    "ind_forecast.head()"
   ]
  },
  {
   "cell_type": "code",
   "execution_count": null,
   "metadata": {},
   "outputs": [],
   "source": [
    "# Outdoor plot with forecasting\n",
    "od_plot = od.plot(od_forecast)"
   ]
  },
  {
   "cell_type": "code",
   "execution_count": null,
   "metadata": {},
   "outputs": [],
   "source": [
    "# Indoor plot with forecasting\n",
    "ind_plot = ind.plot(ind_forecast)"
   ]
  },
  {
   "cell_type": "code",
   "execution_count": null,
   "metadata": {},
   "outputs": [],
   "source": [
    "# Print outdoor trend and daily component\n",
    "od_fig1 = od.plot_components(od_forecast)"
   ]
  },
  {
   "cell_type": "code",
   "execution_count": null,
   "metadata": {},
   "outputs": [],
   "source": [
    "# Print indoor trend and daily component\n",
    "ind_fig1 = ind.plot_components(ind_forecast)"
   ]
  },
  {
   "cell_type": "code",
   "execution_count": null,
   "metadata": {},
   "outputs": [],
   "source": [
    "# Print outdoor \n",
    "py.init_notebook_mode()\n",
    "od_fig = plot_plotly(od, od_forecast)  # This returns a plotly Figure\n",
    "py.iplot(od_fig)"
   ]
  },
  {
   "cell_type": "code",
   "execution_count": null,
   "metadata": {},
   "outputs": [],
   "source": [
    "# Print indoor plotly figure\n",
    "ind_fig = plot_plotly(ind, ind_forecast)  # This returns a plotly Figure\n",
    "py.iplot(ind_fig)"
   ]
  },
  {
   "cell_type": "code",
   "execution_count": null,
   "metadata": {},
   "outputs": [],
   "source": [
    "# Producing full plot for outdoor data\n",
    "py.iplot([\n",
    "    go.Scatter(x=outdoor['ds'], y=outdoor['y'], name='y'),\n",
    "    go.Scatter(x=od_forecast['ds'], y=od_forecast['yhat'], name='yhat'),\n",
    "    go.Scatter(x=od_forecast['ds'], y=od_forecast['yhat_upper'], fill='tonexty', mode='none', name='upper'),\n",
    "    go.Scatter(x=od_forecast['ds'], y=od_forecast['yhat_lower'], fill='tonexty', mode='none', name='lower'),\n",
    "    go.Scatter(x=od_forecast['ds'], y=od_forecast['trend'], name='Trend')\n",
    "])"
   ]
  },
  {
   "cell_type": "code",
   "execution_count": null,
   "metadata": {},
   "outputs": [],
   "source": [
    "# Producing full plot for indoor data\n",
    "py.iplot([\n",
    "    go.Scatter(x=indoor['ds'], y=indoor['y'], name='y'),\n",
    "    go.Scatter(x=ind_forecast['ds'], y=ind_forecast['yhat'], name='yhat'),\n",
    "    go.Scatter(x=ind_forecast['ds'], y=ind_forecast['yhat_upper'], fill='tonexty', mode='none', name='upper'),\n",
    "    go.Scatter(x=ind_forecast['ds'], y=ind_forecast['yhat_lower'], fill='tonexty', mode='none', name='lower'),\n",
    "    go.Scatter(x=ind_forecast['ds'], y=ind_forecast['trend'], name='Trend')\n",
    "])"
   ]
  }
 ],
 "metadata": {
  "kernelspec": {
   "display_name": "Python (pr3)",
   "language": "python",
   "name": "pr3"
  },
  "language_info": {
   "codemirror_mode": {
    "name": "ipython",
    "version": 3
   },
   "file_extension": ".py",
   "mimetype": "text/x-python",
   "name": "python",
   "nbconvert_exporter": "python",
   "pygments_lexer": "ipython3",
   "version": "3.7.3"
  }
 },
 "nbformat": 4,
 "nbformat_minor": 2
}
