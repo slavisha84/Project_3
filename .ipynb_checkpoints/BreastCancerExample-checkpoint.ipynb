{
 "cells": [
  {
   "cell_type": "code",
   "execution_count": null,
   "metadata": {},
   "outputs": [],
   "source": [
    "import math\n",
    "import numpy as np\n",
    "import pandas as pd\n",
    "from sklearn.grid_search import GridSearchCV\n",
    "from sklearn.linear_model import LogisticRegressionCV\n",
    "from sklearn.naive_bayes import GaussianNB\n",
    "from sklearn.cross_validation import cross_val_score, cross_val_predict, StratifiedKFold \n",
    "from sklearn import preprocessing, metrics, svm, ensemble\n",
    "from sklearn.metrics import accuracy_score, classification_report\n",
    "import tabpy_client "
   ]
  },
  {
   "cell_type": "code",
   "execution_count": null,
   "metadata": {},
   "outputs": [],
   "source": [
    "import math\n",
    "import numpy as np\n",
    "import pandas as pd\n",
    "import sklearn\n",
    "from sklearn.model_selection import GridSearchCV\n",
    "from sklearn.linear_model import LogisticRegressionCV\n",
    "from sklearn.naive_bayes import GaussianNB\n",
    "from sklearn.model_selection import cross_val_score, cross_val_predict, StratifiedKFold \n",
    "from sklearn import preprocessing, metrics, svm, ensemble\n",
    "from sklearn.metrics import accuracy_score, classification_report\n",
    "import tabpy_client"
   ]
  },
  {
   "cell_type": "code",
   "execution_count": null,
   "metadata": {},
   "outputs": [],
   "source": [
    "# Breast Cancer dataset\n",
    "# Citation: Dr. William H. Wolberg, University of Wisconsin Hospitals, Madison \n",
    "# https://archive.ics.uci.edu/ml/datasets/Breast+Cancer+Wisconsin+(Original)\n",
    "\n",
    "# Read the dataset (Note that the CSV provided for this demo has rows with the missing data removed)\n",
    "df =  pd.read_csv('breastcancer.csv', header=0)\n",
    "\n",
    "# Take a look at the structure of the file\n",
    "df.head(n=10)"
   ]
  },
  {
   "cell_type": "code",
   "execution_count": null,
   "metadata": {},
   "outputs": [],
   "source": [
    "# Drop Id column not used in analysis\n",
    "df.drop(['Id'], 1, inplace=True)\n",
    "\n",
    "# Use LabelEncoder to convert textual classifications to numeric. \n",
    "# We will use the same encoder later to convert them back.\n",
    "encoder = preprocessing.LabelEncoder()\n",
    "df['Class'] = encoder.fit_transform(df['Class'])\n",
    "\n",
    "# You could also do this manually in the following way:\n",
    "# df['Class'] = df['Class'].map( {'benign': 0, 'malignant': 1} ).astype(int)\n",
    "\n",
    "# Check the result of the transform\n",
    "df.head(n=6)"
   ]
  },
  {
   "cell_type": "code",
   "execution_count": null,
   "metadata": {},
   "outputs": [],
   "source": [
    "# Split columns into independent/predictor variables vs dependent/response/outcome variable\n",
    "X = np.array(df.drop(['Class'], 1))\n",
    "y = np.array(df['Class'])\n",
    "\n",
    "# Scale the data. We will use the same scaler later for scoring function\n",
    "scaler = preprocessing.StandardScaler().fit(X)\n",
    "X = scaler.transform(X)\n",
    "\n",
    "# 10 fold stratified cross validation\n",
    "kf = StratifiedKFold(y, n_folds=10, random_state=None, shuffle=True)\n",
    "\n",
    "# Define the parameter grid to use for tuning the Support Vector Machine\n",
    "parameters = [{'kernel': ['rbf'], 'gamma': [1e-3, 1e-4],\n",
    "                     'C': [1, 10, 100, 1000]},\n",
    "                    {'kernel': ['linear'], 'C': [1, 10, 100, 1000]}]\n",
    "\n",
    "# Pick the goal you're optimizing for e.g. precision if you prefer fewer false-positives\n",
    "# recall if you prefer fewer false-negatives. For demonstration purposes let's pick several\n",
    "# Note that the final model selection will be based on the last item in the list\n",
    "scoringmethods = ['f1','accuracy','precision', 'recall','roc_auc']"
   ]
  },
  {
   "cell_type": "code",
   "execution_count": null,
   "metadata": {},
   "outputs": [],
   "source": [
    "# Iterate through different metrics looking for best parameter set\n",
    "for score in scoringmethods:\n",
    "    print(\"~~~ Hyper-parameter tuning for best %s ~~~\" % score)\n",
    "    \n",
    "    # Setup for grid search with cross-validation for Support Vector Machine\n",
    "    # n_jobs=-1 for parallel execution using all available cores\n",
    "    svmclf = GridSearchCV(svm.SVC(C=1), parameters, cv=kf, scoring=score,n_jobs=-1)\n",
    "    svmclf.fit(X, y)\n",
    "    \n",
    "    # Show each result from grid search\n",
    "    print(\"Scores for different parameter combinations in the grid:\")\n",
    "    for params, mean_score, scores in svmclf.grid_scores_:\n",
    "        print(\"  %0.3f (+/-%0.03f) for %r\"\n",
    "              % (mean_score, scores.std() / 2, params)) \n",
    "    print(\"\")\n",
    "    \n",
    "# Show classification report for the best model (set of parameters) run over the full dataset\n",
    "print(\"Classification report:\")\n",
    "y_pred = svmclf.predict(X)\n",
    "print(classification_report(y, y_pred))\n",
    "    \n",
    "# Show the definition of the best model\n",
    "print(\"Best model:\")\n",
    "print(svmclf.best_estimator_)\n",
    "    \n",
    "# Show accuracy and area under ROC curve\n",
    "print(\"Accuracy: %0.3f\" % accuracy_score(y, y_pred, normalize=True))\n",
    "print(\"Aucroc: %0.3f\" % metrics.roc_auc_score(y, y_pred))\n",
    "print(\"\")"
   ]
  },
  {
   "cell_type": "code",
   "execution_count": null,
   "metadata": {},
   "outputs": [],
   "source": [
    "# Logistic regression with 10 fold stratified cross-validation using model specific cross-validation in scikit-learn\n",
    "lgclf = LogisticRegressionCV(Cs=list(np.power(10.0, np.arange(-10, 10))),penalty='l2',scoring='roc_auc',cv=kf)\n",
    "lgclf.fit(X, y)\n",
    "y_pred = lgclf.predict(X)\n",
    "\n",
    "# Show classification report for the best model (set of parameters) run over the full dataset\n",
    "print(\"Classification report:\")\n",
    "print(classification_report(y, y_pred))\n",
    "\n",
    "# Show accuracy and area under ROC curve\n",
    "print(\"Accuracy: %0.3f\" % accuracy_score(y, y_pred, normalize=True))\n",
    "print(\"Aucroc: %0.3f\" % metrics.roc_auc_score(y, y_pred))"
   ]
  },
  {
   "cell_type": "code",
   "execution_count": null,
   "metadata": {},
   "outputs": [],
   "source": [
    "# Naive Bayes with 10 fold stratified cross-validation\n",
    "nbclf = GaussianNB()\n",
    "scores = cross_val_score(nbclf, X, y, cv=kf, scoring='roc_auc')\n",
    "\n",
    "# Show accuracy statistics for cross-validation\n",
    "print(\"Accuracy: %0.3f\" % (scores.mean()))\n",
    "print(\"Aucroc: %0.3f\" % metrics.roc_auc_score(y, cross_val_predict(nbclf, X, y, cv=kf)))"
   ]
  },
  {
   "cell_type": "code",
   "execution_count": null,
   "metadata": {},
   "outputs": [],
   "source": [
    "# Define the parameter grid to use for tuning the Gradient Boosting Classifier\n",
    "gridparams = dict(learning_rate=[0.01, 0.1],loss=['deviance','exponential'])\n",
    "\n",
    "# Parameters we're not tuning for this classifier\n",
    "params = {'n_estimators': 1500, 'max_depth': 4}\n",
    "\n",
    "# Setup for grid search with cross-validation for Gradient Boosting Classifier\n",
    "# n_jobs=-1 for parallel execution using all available cores\n",
    "gbclf = GridSearchCV(ensemble.GradientBoostingClassifier(**params), gridparams, cv=kf, scoring='roc_auc',n_jobs=-1)\n",
    "gbclf.fit(X,y)\n",
    "\n",
    "# Show the definition of the best model\n",
    "print(\"Best model:\")\n",
    "print(gbclf.best_estimator_)\n",
    "print(\"\")\n",
    "\n",
    "# Show classification report for the best model (set of parameters) run over the full dataset\n",
    "print(\"Classification report:\")    \n",
    "y_pred = gbclf.predict(X)\n",
    "print(classification_report(y, y_pred))\n",
    "\n",
    "# Show accuracy and area under ROC curve\n",
    "print(\"Accuracy: %0.3f\" % accuracy_score(y, y_pred, normalize=True))\n",
    "print(\"Aucroc: %0.3f\" % metrics.roc_auc_score(y, y_pred))"
   ]
  },
  {
   "cell_type": "code",
   "execution_count": null,
   "metadata": {},
   "outputs": [],
   "source": [
    "# Connect to TabPy server using the client library\n",
    "connection = tabpy_client.Client('http://localhost:9004/')"
   ]
  },
  {
   "cell_type": "code",
   "execution_count": null,
   "metadata": {},
   "outputs": [],
   "source": [
    "# The scoring function that will use the Gradient Boosting Classifier to classify new data points\n",
    "def SuggestDiagnosis(Cl_thickness, Cell_size, Cell_shape, Marg_adhesion, Epith_c_size, \n",
    "                     Bare_nuclei, Bl_cromatin, Normal_nucleoli, Mitoses):\n",
    "    X = np.column_stack([Cl_thickness, Cell_size, Cell_shape, Marg_adhesion, Epith_c_size, \n",
    "                         Bare_nuclei, Bl_cromatin, Normal_nucleoli, Mitoses])\n",
    "    X = scaler.transform(X)\n",
    "    return encoder.inverse_transform(gbclf.predict(X)).tolist()"
   ]
  },
  {
   "cell_type": "code",
   "execution_count": null,
   "metadata": {},
   "outputs": [],
   "source": [
    "# Publish the SuggestDiagnosis function to TabPy server so it can be used from Tableau\n",
    "# Using the name DiagnosticsDemo and a short description of what it does\n",
    "connection.deploy('DiagnosticsDemo',\n",
    "                  SuggestDiagnosis,\n",
    "                  'Returns diagnosis suggestion based on ensemble model trained using Wisconsin Breast Cancer dataset')"
   ]
  },
  {
   "cell_type": "code",
   "execution_count": null,
   "metadata": {},
   "outputs": [],
   "source": []
  }
 ],
 "metadata": {
  "kernelspec": {
   "display_name": "Python (pr3)",
   "language": "python",
   "name": "pr3"
  },
  "language_info": {
   "codemirror_mode": {
    "name": "ipython",
    "version": 3
   },
   "file_extension": ".py",
   "mimetype": "text/x-python",
   "name": "python",
   "nbconvert_exporter": "python",
   "pygments_lexer": "ipython3",
   "version": "3.7.3"
  }
 },
 "nbformat": 4,
 "nbformat_minor": 1
}
