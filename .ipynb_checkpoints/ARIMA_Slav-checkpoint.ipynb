{
 "cells": [
  {
   "cell_type": "code",
   "execution_count": 1,
   "metadata": {},
   "outputs": [],
   "source": [
    "# import dependencies\n",
    "import pandas as pd\n",
    "import sqlite3\n",
    "from datetime import datetime, timedelta\n"
   ]
  },
  {
   "cell_type": "code",
   "execution_count": 2,
   "metadata": {},
   "outputs": [],
   "source": [
    "# Create your connections with indoor and outdoor databases\n",
    "Ocnx = sqlite3.connect('Outdoor.db')\n",
    "Icnx = sqlite3.connect('Indoor.db')\n",
    "Outdoor_df = pd.read_sql_query(\"SELECT * FROM BME_DATA\", Ocnx)\n",
    "Indoor_df = pd.read_sql_query(\"SELECT * FROM BME_DATA\", Icnx)"
   ]
  },
  {
   "cell_type": "code",
   "execution_count": 3,
   "metadata": {},
   "outputs": [],
   "source": [
    "# Convert time into datetime\n",
    "Outdoor_df['TIME_STAMP'] = pd.to_datetime(Outdoor_df['TIME_STAMP'])\n",
    "Indoor_df['TIME_STAMP'] = pd.to_datetime(Indoor_df['TIME_STAMP'])"
   ]
  },
  {
   "cell_type": "code",
   "execution_count": 4,
   "metadata": {},
   "outputs": [],
   "source": [
    "Outdoor_df['TIME_STAMP'] = Outdoor_df['TIME_STAMP'].dt.round('1min')\n",
    "Indoor_df['TIME_STAMP'] = Indoor_df['TIME_STAMP'].dt.round('1min')"
   ]
  },
  {
   "cell_type": "code",
   "execution_count": 5,
   "metadata": {},
   "outputs": [
    {
     "data": {
      "text/html": [
       "<div>\n",
       "<style scoped>\n",
       "    .dataframe tbody tr th:only-of-type {\n",
       "        vertical-align: middle;\n",
       "    }\n",
       "\n",
       "    .dataframe tbody tr th {\n",
       "        vertical-align: top;\n",
       "    }\n",
       "\n",
       "    .dataframe thead th {\n",
       "        text-align: right;\n",
       "    }\n",
       "</style>\n",
       "<table border=\"1\" class=\"dataframe\">\n",
       "  <thead>\n",
       "    <tr style=\"text-align: right;\">\n",
       "      <th></th>\n",
       "      <th>id</th>\n",
       "      <th>TIME_STAMP</th>\n",
       "      <th>TEMPERATURE</th>\n",
       "      <th>GAS</th>\n",
       "      <th>HUMIDITY</th>\n",
       "      <th>PRESSURE</th>\n",
       "      <th>ALTITUDE</th>\n",
       "    </tr>\n",
       "  </thead>\n",
       "  <tbody>\n",
       "    <tr>\n",
       "      <th>0</th>\n",
       "      <td>1</td>\n",
       "      <td>2019-05-12 18:46:00</td>\n",
       "      <td>75.0</td>\n",
       "      <td>100</td>\n",
       "      <td>50.0</td>\n",
       "      <td>1000.0</td>\n",
       "      <td>1000.0</td>\n",
       "    </tr>\n",
       "    <tr>\n",
       "      <th>1</th>\n",
       "      <td>2</td>\n",
       "      <td>2019-05-12 18:58:00</td>\n",
       "      <td>23.8</td>\n",
       "      <td>364884</td>\n",
       "      <td>84.9</td>\n",
       "      <td>975.0</td>\n",
       "      <td>323.2</td>\n",
       "    </tr>\n",
       "    <tr>\n",
       "      <th>2</th>\n",
       "      <td>3</td>\n",
       "      <td>2019-05-12 18:59:00</td>\n",
       "      <td>23.8</td>\n",
       "      <td>362475</td>\n",
       "      <td>84.6</td>\n",
       "      <td>975.0</td>\n",
       "      <td>323.3</td>\n",
       "    </tr>\n",
       "    <tr>\n",
       "      <th>3</th>\n",
       "      <td>4</td>\n",
       "      <td>2019-05-12 19:00:00</td>\n",
       "      <td>23.8</td>\n",
       "      <td>362874</td>\n",
       "      <td>84.2</td>\n",
       "      <td>975.0</td>\n",
       "      <td>323.4</td>\n",
       "    </tr>\n",
       "    <tr>\n",
       "      <th>4</th>\n",
       "      <td>5</td>\n",
       "      <td>2019-05-12 19:01:00</td>\n",
       "      <td>23.8</td>\n",
       "      <td>362475</td>\n",
       "      <td>84.4</td>\n",
       "      <td>975.0</td>\n",
       "      <td>323.5</td>\n",
       "    </tr>\n",
       "  </tbody>\n",
       "</table>\n",
       "</div>"
      ],
      "text/plain": [
       "   id          TIME_STAMP  TEMPERATURE     GAS  HUMIDITY  PRESSURE  ALTITUDE\n",
       "0   1 2019-05-12 18:46:00         75.0     100      50.0    1000.0    1000.0\n",
       "1   2 2019-05-12 18:58:00         23.8  364884      84.9     975.0     323.2\n",
       "2   3 2019-05-12 18:59:00         23.8  362475      84.6     975.0     323.3\n",
       "3   4 2019-05-12 19:00:00         23.8  362874      84.2     975.0     323.4\n",
       "4   5 2019-05-12 19:01:00         23.8  362475      84.4     975.0     323.5"
      ]
     },
     "execution_count": 5,
     "metadata": {},
     "output_type": "execute_result"
    }
   ],
   "source": [
    "Outdoor_df.head()"
   ]
  },
  {
   "cell_type": "code",
   "execution_count": 6,
   "metadata": {},
   "outputs": [],
   "source": [
    "# Deleting the wrong input at the first rows\n",
    "Outdoor_df = Outdoor_df.iloc[1:]\n",
    "Indoor_df = Indoor_df.iloc[1:]"
   ]
  },
  {
   "cell_type": "code",
   "execution_count": 7,
   "metadata": {},
   "outputs": [],
   "source": [
    "# converting temperature from C to f\n",
    "Outdoor_df['TEMPERATURE'] = round((Outdoor_df['TEMPERATURE']* 9/5) + 32)\n",
    "Indoor_df['TEMPERATURE'] = round((Indoor_df['TEMPERATURE']* 9/5) + 32)"
   ]
  },
  {
   "cell_type": "code",
   "execution_count": 8,
   "metadata": {},
   "outputs": [
    {
     "data": {
      "text/html": [
       "<div>\n",
       "<style scoped>\n",
       "    .dataframe tbody tr th:only-of-type {\n",
       "        vertical-align: middle;\n",
       "    }\n",
       "\n",
       "    .dataframe tbody tr th {\n",
       "        vertical-align: top;\n",
       "    }\n",
       "\n",
       "    .dataframe thead th {\n",
       "        text-align: right;\n",
       "    }\n",
       "</style>\n",
       "<table border=\"1\" class=\"dataframe\">\n",
       "  <thead>\n",
       "    <tr style=\"text-align: right;\">\n",
       "      <th></th>\n",
       "      <th>id</th>\n",
       "      <th>TIME_STAMP</th>\n",
       "      <th>TEMPERATURE</th>\n",
       "      <th>GAS</th>\n",
       "      <th>HUMIDITY</th>\n",
       "      <th>PRESSURE</th>\n",
       "      <th>ALTITUDE</th>\n",
       "    </tr>\n",
       "  </thead>\n",
       "  <tbody>\n",
       "    <tr>\n",
       "      <th>1</th>\n",
       "      <td>2</td>\n",
       "      <td>2019-05-12 18:58:00</td>\n",
       "      <td>75.0</td>\n",
       "      <td>364884</td>\n",
       "      <td>84.9</td>\n",
       "      <td>975.0</td>\n",
       "      <td>323.2</td>\n",
       "    </tr>\n",
       "    <tr>\n",
       "      <th>2</th>\n",
       "      <td>3</td>\n",
       "      <td>2019-05-12 18:59:00</td>\n",
       "      <td>75.0</td>\n",
       "      <td>362475</td>\n",
       "      <td>84.6</td>\n",
       "      <td>975.0</td>\n",
       "      <td>323.3</td>\n",
       "    </tr>\n",
       "    <tr>\n",
       "      <th>3</th>\n",
       "      <td>4</td>\n",
       "      <td>2019-05-12 19:00:00</td>\n",
       "      <td>75.0</td>\n",
       "      <td>362874</td>\n",
       "      <td>84.2</td>\n",
       "      <td>975.0</td>\n",
       "      <td>323.4</td>\n",
       "    </tr>\n",
       "    <tr>\n",
       "      <th>4</th>\n",
       "      <td>5</td>\n",
       "      <td>2019-05-12 19:01:00</td>\n",
       "      <td>75.0</td>\n",
       "      <td>362475</td>\n",
       "      <td>84.4</td>\n",
       "      <td>975.0</td>\n",
       "      <td>323.5</td>\n",
       "    </tr>\n",
       "    <tr>\n",
       "      <th>5</th>\n",
       "      <td>6</td>\n",
       "      <td>2019-05-12 19:02:00</td>\n",
       "      <td>75.0</td>\n",
       "      <td>362874</td>\n",
       "      <td>84.4</td>\n",
       "      <td>975.0</td>\n",
       "      <td>323.5</td>\n",
       "    </tr>\n",
       "  </tbody>\n",
       "</table>\n",
       "</div>"
      ],
      "text/plain": [
       "   id          TIME_STAMP  TEMPERATURE     GAS  HUMIDITY  PRESSURE  ALTITUDE\n",
       "1   2 2019-05-12 18:58:00         75.0  364884      84.9     975.0     323.2\n",
       "2   3 2019-05-12 18:59:00         75.0  362475      84.6     975.0     323.3\n",
       "3   4 2019-05-12 19:00:00         75.0  362874      84.2     975.0     323.4\n",
       "4   5 2019-05-12 19:01:00         75.0  362475      84.4     975.0     323.5\n",
       "5   6 2019-05-12 19:02:00         75.0  362874      84.4     975.0     323.5"
      ]
     },
     "execution_count": 8,
     "metadata": {},
     "output_type": "execute_result"
    }
   ],
   "source": [
    "Outdoor_df.head()"
   ]
  },
  {
   "cell_type": "code",
   "execution_count": 9,
   "metadata": {},
   "outputs": [
    {
     "data": {
      "text/html": [
       "<div>\n",
       "<style scoped>\n",
       "    .dataframe tbody tr th:only-of-type {\n",
       "        vertical-align: middle;\n",
       "    }\n",
       "\n",
       "    .dataframe tbody tr th {\n",
       "        vertical-align: top;\n",
       "    }\n",
       "\n",
       "    .dataframe thead th {\n",
       "        text-align: right;\n",
       "    }\n",
       "</style>\n",
       "<table border=\"1\" class=\"dataframe\">\n",
       "  <thead>\n",
       "    <tr style=\"text-align: right;\">\n",
       "      <th></th>\n",
       "      <th>id</th>\n",
       "      <th>TIME_STAMP</th>\n",
       "      <th>TEMPERATURE</th>\n",
       "      <th>GAS</th>\n",
       "      <th>HUMIDITY</th>\n",
       "      <th>PRESSURE</th>\n",
       "      <th>ALTITUDE</th>\n",
       "    </tr>\n",
       "  </thead>\n",
       "  <tbody>\n",
       "    <tr>\n",
       "      <th>1</th>\n",
       "      <td>2</td>\n",
       "      <td>2019-05-12 18:58:00</td>\n",
       "      <td>74.0</td>\n",
       "      <td>6049661</td>\n",
       "      <td>35.9</td>\n",
       "      <td>972.9</td>\n",
       "      <td>341.2</td>\n",
       "    </tr>\n",
       "    <tr>\n",
       "      <th>2</th>\n",
       "      <td>3</td>\n",
       "      <td>2019-05-12 18:59:00</td>\n",
       "      <td>74.0</td>\n",
       "      <td>5851528</td>\n",
       "      <td>35.9</td>\n",
       "      <td>972.9</td>\n",
       "      <td>341.3</td>\n",
       "    </tr>\n",
       "    <tr>\n",
       "      <th>3</th>\n",
       "      <td>4</td>\n",
       "      <td>2019-05-12 19:00:00</td>\n",
       "      <td>74.0</td>\n",
       "      <td>5636172</td>\n",
       "      <td>36.2</td>\n",
       "      <td>972.9</td>\n",
       "      <td>341.4</td>\n",
       "    </tr>\n",
       "    <tr>\n",
       "      <th>4</th>\n",
       "      <td>5</td>\n",
       "      <td>2019-05-12 19:01:00</td>\n",
       "      <td>74.0</td>\n",
       "      <td>5441624</td>\n",
       "      <td>37.3</td>\n",
       "      <td>972.9</td>\n",
       "      <td>341.5</td>\n",
       "    </tr>\n",
       "    <tr>\n",
       "      <th>5</th>\n",
       "      <td>6</td>\n",
       "      <td>2019-05-12 19:02:00</td>\n",
       "      <td>74.0</td>\n",
       "      <td>5219085</td>\n",
       "      <td>37.1</td>\n",
       "      <td>972.9</td>\n",
       "      <td>341.6</td>\n",
       "    </tr>\n",
       "  </tbody>\n",
       "</table>\n",
       "</div>"
      ],
      "text/plain": [
       "   id          TIME_STAMP  TEMPERATURE      GAS  HUMIDITY  PRESSURE  ALTITUDE\n",
       "1   2 2019-05-12 18:58:00         74.0  6049661      35.9     972.9     341.2\n",
       "2   3 2019-05-12 18:59:00         74.0  5851528      35.9     972.9     341.3\n",
       "3   4 2019-05-12 19:00:00         74.0  5636172      36.2     972.9     341.4\n",
       "4   5 2019-05-12 19:01:00         74.0  5441624      37.3     972.9     341.5\n",
       "5   6 2019-05-12 19:02:00         74.0  5219085      37.1     972.9     341.6"
      ]
     },
     "execution_count": 9,
     "metadata": {},
     "output_type": "execute_result"
    }
   ],
   "source": [
    "Indoor_df.head()"
   ]
  },
  {
   "cell_type": "code",
   "execution_count": 10,
   "metadata": {},
   "outputs": [],
   "source": [
    "# Merging Indor and Outdoor (on time stamp)\n",
    "master_df = pd.merge(Outdoor_df, Indoor_df, on = \"TIME_STAMP\", how = \"left\", suffixes=(\"_Out\",\"_In\"))"
   ]
  },
  {
   "cell_type": "code",
   "execution_count": 11,
   "metadata": {},
   "outputs": [],
   "source": [
    "# Convert datetime into float\n",
    "# master_df['TIME_STAMP'] = pd.to_numeric(master_df['TIME_STAMP'], downcast = 'float')"
   ]
  },
  {
   "cell_type": "code",
   "execution_count": 12,
   "metadata": {},
   "outputs": [],
   "source": []
  },
  {
   "cell_type": "code",
   "execution_count": null,
   "metadata": {},
   "outputs": [],
   "source": []
  },
  {
   "cell_type": "code",
   "execution_count": null,
   "metadata": {},
   "outputs": [],
   "source": []
  },
  {
   "cell_type": "code",
   "execution_count": null,
   "metadata": {},
   "outputs": [],
   "source": []
  }
 ],
 "metadata": {
  "kernelspec": {
   "display_name": "Python 3",
   "language": "python",
   "name": "python3"
  },
  "language_info": {
   "codemirror_mode": {
    "name": "ipython",
    "version": 3
   },
   "file_extension": ".py",
   "mimetype": "text/x-python",
   "name": "python",
   "nbconvert_exporter": "python",
   "pygments_lexer": "ipython3",
   "version": "3.7.1"
  }
 },
 "nbformat": 4,
 "nbformat_minor": 2
}
